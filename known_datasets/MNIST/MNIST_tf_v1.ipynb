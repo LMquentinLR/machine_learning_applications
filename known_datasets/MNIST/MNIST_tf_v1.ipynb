{
 "cells": [
  {
   "cell_type": "markdown",
   "metadata": {},
   "source": [
    "# Application of CNNs on MNIST dataset"
   ]
  },
  {
   "cell_type": "markdown",
   "metadata": {},
   "source": [
    "## 1. Importing libraries"
   ]
  },
  {
   "cell_type": "code",
   "execution_count": 1,
   "metadata": {},
   "outputs": [],
   "source": [
    "from IPython.display import Image\n",
    "import matplotlib.pyplot as plt \n",
    "import math\n",
    "import numpy as np\n",
    "import random as rd"
   ]
  },
  {
   "cell_type": "markdown",
   "metadata": {},
   "source": [
    "<u><b>Warning:</b></u> This notebook runs on tensorflow version 1.14 (tested using an installation of tensorflow-gpu v1.14.0)"
   ]
  },
  {
   "cell_type": "code",
   "execution_count": 2,
   "metadata": {},
   "outputs": [
    {
     "data": {
      "text/plain": [
       "'1.14.0'"
      ]
     },
     "execution_count": 2,
     "metadata": {},
     "output_type": "execute_result"
    }
   ],
   "source": [
    "import tensorflow as tf\n",
    "tf.__version__"
   ]
  },
  {
   "cell_type": "markdown",
   "metadata": {},
   "source": [
    "## 2. Importing datasets\n",
    "The MNIST datasets are kindly provided by Yann Lecun on his [website](http://yann.lecun.com/exdb/mnist/).\n",
    "\n",
    "They are directly accessibly through the tensorflow library as seen below."
   ]
  },
  {
   "cell_type": "code",
   "execution_count": 3,
   "metadata": {},
   "outputs": [],
   "source": [
    "mnist = tf.keras.datasets.mnist\n",
    "(train_images, train_labels),(test_images, test_labels) = mnist.load_data()"
   ]
  },
  {
   "cell_type": "code",
   "execution_count": 4,
   "metadata": {
    "scrolled": true
   },
   "outputs": [
    {
     "name": "stdout",
     "output_type": "stream",
     "text": [
      "Image n°22337's label is 0.\n",
      "The image is of shape (28, 28).\n"
     ]
    },
    {
     "data": {
      "image/png": "[encoded data removed]",
      "text/plain": [
       "<Figure size 432x288 with 1 Axes>"
      ]
     },
     "metadata": {
      "needs_background": "light"
     },
     "output_type": "display_data"
    }
   ],
   "source": [
    "# Testing random image and its label from the training set.\n",
    "random_image = rd.randrange(train_images.shape[0])\n",
    "plt.imshow(train_images[random_image])\n",
    "print(f\"Image n°{random_image}'s label is {train_labels[random_image]}.\")\n",
    "print(f\"The image is of shape {train_images[random_image].shape}.\")"
   ]
  },
  {
   "cell_type": "markdown",
   "metadata": {},
   "source": [
    "## 3. Data Preprocessing\n",
    "\n",
    "<u>1. Declaring pre-processing functions:</u>"
   ]
  },
  {
   "cell_type": "code",
   "execution_count": 5,
   "metadata": {},
   "outputs": [],
   "source": [
    "def convert_to_one_hot(array):\n",
    "    \"\"\"\n",
    "    Converts a numpy array of shape (number_instances, 1) to one-hot encodings\n",
    "    of shape (number_instances, number_labels)\n",
    "    ---\n",
    "    variable <array>: <class 'numpy.ndarray'>\n",
    "    \"\"\"    \n",
    "    # Using np.reshape is necessary so the one-hot encodings are not a nested list.\n",
    "    new_array = np.array(array).reshape(-1)\n",
    "    return np.eye(np.max(array)+1)[new_array]"
   ]
  },
  {
   "cell_type": "markdown",
   "metadata": {},
   "source": [
    "<u>2. Reshaping train and test image/label arrays:</u>"
   ]
  },
  {
   "cell_type": "code",
   "execution_count": 6,
   "metadata": {},
   "outputs": [
    {
     "name": "stdout",
     "output_type": "stream",
     "text": [
      "Dimensions of:\n",
      "- Training features array: (60000, 28, 28, 1)\n",
      "- Training labels array: (60000, 1)\n",
      "- Testing features array: (10000, 28, 28, 1)\n",
      "- Testing labels array: (10000, 1)\n"
     ]
    }
   ],
   "source": [
    "# Expanding by 1 the dimension of train and test images to indicate that MNIST data are \n",
    "#in greyscale, i.e. 1 channel\n",
    "train_images = np.expand_dims(train_images,axis=3)\n",
    "test_images = np.expand_dims(test_images,axis=3)\n",
    "\n",
    "# Reshaping labels to indicate the dimension of the secondary axis\n",
    "train_labels = np.reshape(train_labels,(train_labels.shape[0],1))\n",
    "test_labels = np.reshape(test_labels,(test_labels.shape[0],1))\n",
    "\n",
    "print(\"Dimensions of:\",\n",
    "      \"- Training features array: \" + str(train_images.shape), \n",
    "      \"- Training labels array: \" + str(train_labels.shape), \n",
    "      \"- Testing features array: \" + str(test_images.shape), \n",
    "      \"- Testing labels array: \" + str(test_labels.shape), \n",
    "      sep=\"\\n\")"
   ]
  },
  {
   "cell_type": "markdown",
   "metadata": {},
   "source": [
    "<u>3. Normalizing features:</u>"
   ]
  },
  {
   "cell_type": "code",
   "execution_count": 7,
   "metadata": {},
   "outputs": [],
   "source": [
    "# Normalizing features. \n",
    "norm_train_images = train_images.astype(np.float32)/np.max(train_images) #i.e. /255\n",
    "norm_test_images = test_images/np.max(test_images) #i.e. /255"
   ]
  },
  {
   "cell_type": "markdown",
   "metadata": {},
   "source": [
    "<u>4. Converting train and test labels arrays to one-hot encodings:</u>"
   ]
  },
  {
   "cell_type": "code",
   "execution_count": 8,
   "metadata": {},
   "outputs": [],
   "source": [
    "encoded_train_labels = convert_to_one_hot(train_labels)\n",
    "encoded_test_labels = convert_to_one_hot(test_labels)"
   ]
  },
  {
   "cell_type": "code",
   "execution_count": 9,
   "metadata": {},
   "outputs": [
    {
     "name": "stdout",
     "output_type": "stream",
     "text": [
      "Dimensions of:\n",
      "- Training labels one-hot encoded array:(60000, 10)\n",
      "- Test labels one-hot encoded array:(10000, 10)\n",
      "\n",
      "Image n°22337's one-hot encoding is [1. 0. 0. 0. 0. 0. 0. 0. 0. 0.].\n"
     ]
    }
   ],
   "source": [
    "print(\"Dimensions of:\",\n",
    "      \"- Training labels one-hot encoded array:\" + str(encoded_train_labels.shape),\n",
    "      \"- Test labels one-hot encoded array:\" + str(encoded_test_labels.shape),\n",
    "      \"\\nImage n°\" + str(random_image) + \"'s one-hot encoding is \" + \\\n",
    "      str(encoded_train_labels[random_image]) + \".\",\n",
    "      sep=\"\\n\")"
   ]
  },
  {
   "cell_type": "markdown",
   "metadata": {},
   "source": [
    "## 4. Laying out the CNN Model\n",
    "\n",
    "<u>1. Declaring pre-processing functions:</u>"
   ]
  },
  {
   "cell_type": "code",
   "execution_count": 10,
   "metadata": {},
   "outputs": [],
   "source": [
    "def tensorflow_placeholders(instance_height, \n",
    "                            instance_width, \n",
    "                            instance_channels, \n",
    "                            label_numbers):\n",
    "    \"\"\"\n",
    "    Creates tensorflow placeholders for a tensorflow session.\n",
    "    ---\n",
    "    variables <class 'int'>: <instance_height>, <instance_width>, <instance_channel>, <label_numbers>\n",
    "    \"\"\"\n",
    "    placeholder_data = tf.placeholder(tf.float32, shape=(None,\n",
    "                                                         instance_height,\n",
    "                                                         instance_width,\n",
    "                                                         instance_channels))\n",
    "    placeholder_labels = tf.placeholder(tf.float32, shape=(None, label_numbers))\n",
    "    return placeholder_data, placeholder_labels\n",
    "\n",
    "def initialize_parameters(variable_name, filter_shape):\n",
    "    \"\"\"\n",
    "    Initializes weght parameters and returns returns a tensor with shape:\n",
    "    [filter_height, filter_width, in_channels, out_channels].\n",
    "    ---\n",
    "    variable <class 'int'>: <filter_height>, <filter_width>, <channels_in>, <channels_out>\n",
    "    variable <class 'lst'>: <filter_shape> (listing variables: <class 'int'>)\n",
    "    variable <class 'str'>: <variable_name>\n",
    "    \"\"\"\n",
    "    weights = tf.get_variable(variable_name, filter_shape, \n",
    "                              initializer = tf.contrib.layers.xavier_initializer(seed = 0))\n",
    "    return weights"
   ]
  },
  {
   "cell_type": "markdown",
   "metadata": {},
   "source": [
    "<u>2. Setting up parameters and hyperparameters:</u>"
   ]
  },
  {
   "cell_type": "code",
   "execution_count": 11,
   "metadata": {},
   "outputs": [],
   "source": [
    "# Creating the filter shapes\n",
    "convolution_filter_shapes = ([1,1,1,64],\n",
    "                             [5,5,64,32],\n",
    "                             [5,5,32,16],\n",
    "                             [3,3,16,8])"
   ]
  },
  {
   "cell_type": "code",
   "execution_count": 12,
   "metadata": {},
   "outputs": [],
   "source": [
    "# Declaring the hyperparameters\n",
    "strides = {\"cnn_layer_1\": [1,1,1,1], \n",
    "           \"cnn_layer_2\": [1,3,3,1], \n",
    "           \"cnn_layer_3\": [1,5,5,1], \n",
    "           \"cnn_layer_4\": [1,5,5,1], \n",
    "           \"max_pool_layer_1\": [1,1,1,1],\n",
    "           \"max_pool_layer_2\": [1,3,3,1],\n",
    "           \"max_pool_layer_3\": [1,5,5,1],\n",
    "           \"max_pool_layer_4\": [1,5,5,1]}\n",
    "\n",
    "kernel_size = {\"max_pool_layer_1\": [1,1,1,1], \n",
    "               \"max_pool_layer_2\": [1,3,3,1], \n",
    "               \"max_pool_layer_3\": [1,5,5,1], \n",
    "               \"max_pool_layer_4\": [1,5,5,1]}\n",
    "\n",
    "padding = {\"cnn_layer_1\": \"SAME\", \n",
    "           \"cnn_layer_2\": \"SAME\", \n",
    "           \"cnn_layer_3\": \"SAME\", \n",
    "           \"cnn_layer_4\": \"SAME\", \n",
    "           \"max_pool_layer_1\": \"SAME\", \n",
    "           \"max_pool_layer_2\": \"SAME\", \n",
    "           \"max_pool_layer_3\": \"SAME\", \n",
    "           \"max_pool_layer_4\": \"SAME\"}\n",
    "\n",
    "output_layer_size = len(np.unique(train_labels))\n",
    "\n",
    "hyperparameters = {\"strides\": strides, \n",
    "                   \"kernel_size\": kernel_size, \n",
    "                   \"padding\": padding, \n",
    "                   \"output_size\": output_layer_size, \n",
    "                   \"learning_rate\": 0.01, \n",
    "                   \"number_epochs\": 100,\n",
    "                   \"minibatch_size\": 512, \n",
    "                   \"cost_printing\": True,\n",
    "                   \"seed\": 0}"
   ]
  },
  {
   "cell_type": "markdown",
   "metadata": {},
   "source": [
    "<u>3. Setting up tensorflow session structure:</u>"
   ]
  },
  {
   "cell_type": "code",
   "execution_count": 13,
   "metadata": {},
   "outputs": [],
   "source": [
    "def forward_propagation(data, parameters, hyperparameters):\n",
    "    \"\"\"\n",
    "    Implements the forward propagation for the machine learning model.\n",
    "    ---\n",
    "    variable <class 'numpy.ndarray'>: data\n",
    "    variable <class 'dict'>: parameters, hyperparameters\n",
    "    \"\"\"\n",
    "    #############\n",
    "    ###LAYER 1###\n",
    "    # CONV2D\n",
    "    Z1 = tf.nn.conv2d(data, \n",
    "                      parameters[\"W1\"], \n",
    "                      strides = hyperparameters[\"strides\"][\"cnn_layer_1\"], \n",
    "                      padding = hyperparameters[\"padding\"][\"cnn_layer_1\"])\n",
    "    # RELU\n",
    "    A1 = tf.nn.relu(Z1)\n",
    "    # MAXPOOL\n",
    "    P1 = tf.nn.max_pool(A1, \n",
    "                        ksize = hyperparameters[\"kernel_size\"][\"max_pool_layer_1\"], \n",
    "                        strides = hyperparameters[\"strides\"][\"max_pool_layer_1\"], \n",
    "                        padding = hyperparameters[\"padding\"][\"max_pool_layer_1\"])\n",
    "    #############\n",
    "    ###LAYER 2###\n",
    "    # CONV2D\n",
    "    Z2 = tf.nn.conv2d(P1, \n",
    "                      parameters[\"W2\"], \n",
    "                      strides = hyperparameters[\"strides\"][\"cnn_layer_2\"], \n",
    "                      padding = hyperparameters[\"padding\"][\"cnn_layer_2\"])\n",
    "    # RELU\n",
    "    A2 = tf.nn.relu(Z2)\n",
    "    # MAXPOOL\n",
    "    P2 = tf.nn.max_pool(A2, \n",
    "                        ksize = hyperparameters[\"kernel_size\"][\"max_pool_layer_2\"], \n",
    "                        strides = hyperparameters[\"strides\"][\"max_pool_layer_2\"], \n",
    "                        padding = hyperparameters[\"padding\"][\"max_pool_layer_2\"])\n",
    "    #############\n",
    "    ###LAYER 3###\n",
    "    # CONV2D\n",
    "    Z3 = tf.nn.conv2d(P2, \n",
    "                      parameters[\"W3\"], \n",
    "                      strides = hyperparameters[\"strides\"][\"cnn_layer_3\"], \n",
    "                      padding = hyperparameters[\"padding\"][\"cnn_layer_3\"])\n",
    "    # RELU\n",
    "    A3 = tf.nn.relu(Z3)\n",
    "    # MAXPOOL\n",
    "    P3 = tf.nn.max_pool(A3, \n",
    "                        ksize = hyperparameters[\"kernel_size\"][\"max_pool_layer_3\"], \n",
    "                        strides = hyperparameters[\"strides\"][\"max_pool_layer_3\"], \n",
    "                        padding = hyperparameters[\"padding\"][\"max_pool_layer_3\"])\n",
    "    #############\n",
    "    ###LAYER 4###\n",
    "    # CONV2D\n",
    "    Z4 = tf.nn.conv2d(P3, \n",
    "                      parameters[\"W4\"], \n",
    "                      strides = hyperparameters[\"strides\"][\"cnn_layer_4\"], \n",
    "                      padding = hyperparameters[\"padding\"][\"cnn_layer_4\"])\n",
    "    # RELU\n",
    "    A4 = tf.nn.relu(Z4)\n",
    "    # MAXPOOL\n",
    "    P4 = tf.nn.max_pool(A4, \n",
    "                        ksize = kernel_size[\"max_pool_layer_4\"], \n",
    "                        strides = hyperparameters[\"strides\"][\"max_pool_layer_4\"], \n",
    "                        padding = hyperparameters[\"padding\"][\"max_pool_layer_4\"])\n",
    "    #############\n",
    "    ###LAYER 5###\n",
    "    # FLATTEN\n",
    "    F = tf.contrib.layers.flatten(P4)\n",
    "    # FULLY-CONNECTED\n",
    "    Z5 = tf.contrib.layers.fully_connected(F, \n",
    "                                           120, \n",
    "                                           activation_fn = tf.nn.relu)\n",
    "    Z6 = tf.contrib.layers.fully_connected(Z5, \n",
    "                                           hyperparameters[\"output_size\"], \n",
    "                                           activation_fn = None)\n",
    "    return Z6\n",
    "\n",
    "def cost(data, labels):\n",
    "    \"\"\"\n",
    "    Computes the cost of the model.\n",
    "    ---\n",
    "    variables <class 'numpy.ndarray'>: data, labels\n",
    "    \"\"\"\n",
    "    cost = tf.reduce_mean(tf.nn.softmax_cross_entropy_with_logits(logits = data, \n",
    "                                                                  labels = labels))\n",
    "    return cost"
   ]
  },
  {
   "cell_type": "code",
   "execution_count": 14,
   "metadata": {},
   "outputs": [],
   "source": [
    "# Seeding random numbers for tensor parameters\n",
    "tf.set_random_seed(hyperparameters[\"seed\"])\n",
    "\n",
    "# Declaring scalars used for setting up tensorflow session.\n",
    "instance_height, instance_width, instance_channels = norm_train_images.shape[1:]\n",
    "label_numbers = encoded_train_labels.shape[1]"
   ]
  },
  {
   "cell_type": "code",
   "execution_count": 15,
   "metadata": {},
   "outputs": [
    {
     "name": "stdout",
     "output_type": "stream",
     "text": [
      "Tensorflow placeholder for instance data:\n",
      "Tensor(\"Placeholder:0\", shape=(?, 28, 28, 1), dtype=float32)\n",
      "Tensorflow placeholder for instance labels:\n",
      "Tensor(\"Placeholder_1:0\", shape=(?, 10), dtype=float32)\n"
     ]
    }
   ],
   "source": [
    "# Creating tensorflow placeholders.\n",
    "placeholder_data, placeholder_labels = tensorflow_placeholders(instance_height, \n",
    "                                                               instance_width, \n",
    "                                                               instance_channels, \n",
    "                                                               label_numbers)\n",
    "print(\"Tensorflow placeholder for instance data:\",\n",
    "      placeholder_data,\n",
    "      \"Tensorflow placeholder for instance labels:\",\n",
    "      placeholder_labels\n",
    "      , sep=\"\\n\")"
   ]
  },
  {
   "cell_type": "code",
   "execution_count": 16,
   "metadata": {},
   "outputs": [
    {
     "name": "stdout",
     "output_type": "stream",
     "text": [
      "WARNING:tensorflow:\n",
      "The TensorFlow contrib module will not be included in TensorFlow 2.0.\n",
      "For more information, please see:\n",
      "  * https://github.com/tensorflow/community/blob/master/rfcs/20180907-contrib-sunset.md\n",
      "  * https://github.com/tensorflow/addons\n",
      "  * https://github.com/tensorflow/io (for I/O related ops)\n",
      "If you depend on functionality not listed there, please file an issue.\n",
      "\n"
     ]
    }
   ],
   "source": [
    "# Creating the parameters from filter shapes\n",
    "parameters = {\"W1\":initialize_parameters(\"W1\", convolution_filter_shapes[0]),\n",
    "              \"W2\":initialize_parameters(\"W2\", convolution_filter_shapes[1]),\n",
    "              \"W3\":initialize_parameters(\"W3\", convolution_filter_shapes[2]),\n",
    "              \"W4\":initialize_parameters(\"W4\", convolution_filter_shapes[3])}"
   ]
  },
  {
   "cell_type": "code",
   "execution_count": 17,
   "metadata": {},
   "outputs": [
    {
     "name": "stdout",
     "output_type": "stream",
     "text": [
      "WARNING:tensorflow:From C:\\Anaconda\\lib\\site-packages\\tensorflow\\contrib\\layers\\python\\layers\\layers.py:1634: flatten (from tensorflow.python.layers.core) is deprecated and will be removed in a future version.\n",
      "Instructions for updating:\n",
      "Use keras.layers.flatten instead.\n",
      "WARNING:tensorflow:From <ipython-input-13-4dc1113479a0>:84: softmax_cross_entropy_with_logits (from tensorflow.python.ops.nn_ops) is deprecated and will be removed in a future version.\n",
      "Instructions for updating:\n",
      "\n",
      "Future major versions of TensorFlow will allow gradients to flow\n",
      "into the labels input on backprop by default.\n",
      "\n",
      "See `tf.nn.softmax_cross_entropy_with_logits_v2`.\n",
      "\n"
     ]
    }
   ],
   "source": [
    "# Instancing the forward propagation in the tensorflow graph\n",
    "pass_results = forward_propagation(placeholder_data, \n",
    "                                   parameters, \n",
    "                                   hyperparameters)\n",
    "\n",
    "# Adding the cost function to the tensorflow graph\n",
    "cost = cost(pass_results, placeholder_labels)"
   ]
  },
  {
   "cell_type": "markdown",
   "metadata": {},
   "source": [
    "## 5. Training the CNN Model"
   ]
  },
  {
   "cell_type": "code",
   "execution_count": 18,
   "metadata": {},
   "outputs": [],
   "source": [
    "def random_batches(data, labels, seed, batch_size = 64):\n",
    "    \"\"\"\n",
    "    Creates a list of random minibatches from (data, labels).\n",
    "    ---\n",
    "    variables <class 'int'>: batch_size\n",
    "    variables <class 'numpy.ndarray'>: data, labels\n",
    "    \"\"\"\n",
    "    \n",
    "    np.random.seed(seed)\n",
    "    number_examples = data.shape[0]\n",
    "    batches = []\n",
    "        \n",
    "    # Shuffling\n",
    "    permutation = list(np.random.permutation(number_examples))\n",
    "    shuffled_data = data[permutation, :]\n",
    "    shuffled_labels = labels[permutation, :] #.reshape((number_examples, 1))\n",
    "\n",
    "    # Partitioning\n",
    "    num_complete_batches = math.floor(number_examples/batch_size)\n",
    "    for k in range(0, num_complete_batches):\n",
    "        batch_data = shuffled_data[k * batch_size : (k + 1) * batch_size, :]\n",
    "        batch_labels = shuffled_labels[k * batch_size : (k + 1) * batch_size, :]\n",
    "        batch = (batch_data, batch_labels)\n",
    "        batches.append(batch)\n",
    "    \n",
    "    # Tail of training data\n",
    "    if number_examples % batch_size != 0:\n",
    "        batch_data = shuffled_data[num_complete_batches * batch_size:, :]\n",
    "        batch_labels = shuffled_labels[num_complete_batches * batch_size:, :]\n",
    "        batch = (batch_data, batch_labels)\n",
    "        batches.append(batch)\n",
    "    \n",
    "    return batches\n",
    "\n",
    "def batch_range(batch_number, batch_size, number_examples):\n",
    "    \"\"\"\n",
    "    Defines a range [start:end] from which to build a batch of data.\n",
    "    ---\n",
    "    variable <class 'int'>: batch_number, batch_size, number_examples\n",
    "    \"\"\"\n",
    "    start = batch_number * batch_size\n",
    "    if (batch_number + 1) * batch_size <= number_examples:\n",
    "        end = (batch_number + 1) * batch_size\n",
    "    else:\n",
    "        end = number_examples\n",
    "    return start, end\n",
    "\n",
    "def accuracy_test(accuracy, number_examples, minibatch_size, data, labels):\n",
    "    \"\"\"\n",
    "    Tests the accuracy of a model on a set of data.\n",
    "    ----\n",
    "    variable <class 'int'>: number_examples, minibatch_size, \n",
    "    variables <class 'numpy.ndarray'>: data, labels\n",
    "    variable <class 'tensorflow.python.framework.ops.Tensor'>: accuracy\n",
    "    \"\"\"\n",
    "    acc = 0.\n",
    "    for batch in range(int(number_examples/minibatch_size)):\n",
    "        start, end = batch_range(batch, minibatch_size, number_examples)\n",
    "        acc += accuracy.eval(feed_dict = {placeholder_data: data[start:end],\n",
    "                                               placeholder_labels: labels[start:end]})\n",
    "    acc /= int(number_examples/minibatch_size)\n",
    "    return acc"
   ]
  },
  {
   "cell_type": "code",
   "execution_count": 19,
   "metadata": {},
   "outputs": [],
   "source": [
    "# Defining the tensorflow optimizer.\n",
    "optimizer = tf.train.AdamOptimizer(hyperparameters[\"learning_rate\"]).minimize(loss = cost)\n",
    "\n",
    "# Initializing all variables globally\n",
    "init = tf.global_variables_initializer()"
   ]
  },
  {
   "cell_type": "code",
   "execution_count": 20,
   "metadata": {},
   "outputs": [],
   "source": [
    "# Declaring variables needed for session run\n",
    "costs = []\n",
    "test_acc_per_epoch = []\n",
    "number_examples, height, width, channels = norm_train_images.shape\n",
    "learning_rate = hyperparameters[\"learning_rate\"]\n",
    "testing_accuracy = 0.\n",
    "training_accuracy = 0."
   ]
  },
  {
   "cell_type": "code",
   "execution_count": 21,
   "metadata": {
    "scrolled": false
   },
   "outputs": [
    {
     "name": "stdout",
     "output_type": "stream",
     "text": [
      "Cost after epoch 0: 0.81934\n",
      "Cost after epoch 10: 0.10626\n",
      "Cost after epoch 20: 0.09528\n",
      "Cost after epoch 30: 0.08557\n",
      "Cost after epoch 40: 0.07957\n",
      "Cost after epoch 50: 0.07817\n",
      "Cost after epoch 60: 0.07523\n",
      "Cost after epoch 70: 0.06727\n",
      "Cost after epoch 80: 0.06805\n",
      "Cost after epoch 90: 0.06731\n",
      "Cost after epoch 99: 0.06566\n"
     ]
    },
    {
     "data": {
      "image/png": "[encoded data removed]",
      "text/plain": [
       "<Figure size 1080x432 with 2 Axes>"
      ]
     },
     "metadata": {
      "needs_background": "light"
     },
     "output_type": "display_data"
    },
    {
     "name": "stdout",
     "output_type": "stream",
     "text": [
      "The model achieved a training accuracy of 97.876603%.\n",
      "\n",
      "The model achieved a testing accuracy of 96.700247%.\n",
      "\n",
      "The model was able to predict the correct label of the image n°22337, i.e. a [0] digit. See image again below:\n"
     ]
    },
    {
     "data": {
      "image/png": "[encoded data removed]",
      "text/plain": [
       "<Figure size 432x288 with 1 Axes>"
      ]
     },
     "metadata": {
      "needs_background": "light"
     },
     "output_type": "display_data"
    }
   ],
   "source": [
    "with tf.Session() as session:\n",
    "    # Initializing\n",
    "    session.run(init)\n",
    "    #Instantiating epoch loop\n",
    "    for epoch in range(hyperparameters[\"number_epochs\"]):\n",
    "        # Declaring/Updating parameters and/or variables\n",
    "        batch_cost = 0.\n",
    "        number_batches = int(number_examples/hyperparameters[\"minibatch_size\"])\n",
    "        hyperparameters[\"seed\"] += 1\n",
    "        # Producing random batches\n",
    "        batches = random_batches(norm_train_images, \n",
    "                                 encoded_train_labels, \n",
    "                                 hyperparameters[\"seed\"], \n",
    "                                 hyperparameters[\"minibatch_size\"])\n",
    "        # Running forward then backward propagations\n",
    "        # Updating costs\n",
    "        for batch in batches:\n",
    "            (batch_data, batch_labels) = batch\n",
    "            _, epoch_cost = session.run(fetches = [optimizer, cost], \n",
    "                                        feed_dict = {placeholder_data: batch_data, \n",
    "                                                     placeholder_labels: batch_labels})\n",
    "            batch_cost += epoch_cost / number_batches\n",
    "        # Printing session data if requested\n",
    "        if (hyperparameters[\"cost_printing\"] == True and epoch % 10 == 0) or \\\n",
    "        epoch == max(range(hyperparameters[\"number_epochs\"])): \n",
    "            print(f\"Cost after epoch {epoch}: {round(batch_cost, 5)}\")\n",
    "        # Recording testing accuracy.\n",
    "        # Instantiating predictions based on trained model\n",
    "        predictor = tf.argmax(pass_results, 1)\n",
    "        correct_prediction = tf.equal(predictor,\n",
    "                                      tf.argmax(placeholder_labels, 1))\n",
    "        accuracy = tf.reduce_mean(tf.cast(correct_prediction, \"float\")) \n",
    "        accuracy_performance_per_iteration = accuracy_test(accuracy,\n",
    "                                                           norm_test_images.shape[0],\n",
    "                                                           hyperparameters[\"minibatch_size\"],\n",
    "                                                           norm_test_images,\n",
    "                                                           encoded_test_labels)\n",
    "        test_acc_per_epoch.append(accuracy_performance_per_iteration)\n",
    "        # Recording batch costs.\n",
    "        costs.append(batch_cost)\n",
    "    \n",
    "    fig, ax = plt.subplots(1, 2, figsize=(15, 6)) \n",
    "    fig.suptitle(f\"Learning rate was {learning_rate}.\")\n",
    "    # Plotting costs per iteration\n",
    "    ax[0].plot(costs)\n",
    "    ax[0].set_ylabel(\"Cost\")\n",
    "    ax[0].set_xlabel(\"Epochs/Iterations\")\n",
    "    # Plotting testing accuracy per epoch\n",
    "    ax[1].plot(test_acc_per_epoch)\n",
    "    ax[1].set_ylabel(\"Testing Accuracy Per Epoch\")\n",
    "    ax[1].set_xlabel(\"Epochs/Iterations\")\n",
    "    plt.show()\n",
    "    \n",
    "    # Instantiating predictions based on trained model\n",
    "    predictor = tf.argmax(pass_results, 1)\n",
    "    correct_prediction = tf.equal(predictor,\n",
    "                                  tf.argmax(placeholder_labels, 1))\n",
    "    accuracy = tf.reduce_mean(tf.cast(correct_prediction, \"float\"))\n",
    "    training_accuracy = accuracy_test(accuracy,\n",
    "                                      number_examples, \n",
    "                                      hyperparameters[\"minibatch_size\"], \n",
    "                                      norm_train_images, \n",
    "                                      encoded_train_labels)\n",
    "    testing_accuracy = accuracy_test(accuracy,\n",
    "                                     norm_test_images.shape[0], \n",
    "                                     hyperparameters[\"minibatch_size\"], \n",
    "                                     norm_test_images, \n",
    "                                     encoded_test_labels)\n",
    "\n",
    "    # Testing accuracy of model on the randomly-picked image in part 2.\n",
    "    random_image_result = accuracy.eval(feed_dict = {placeholder_data: norm_train_images[random_image].reshape(1,28,28,1), \n",
    "                                                     placeholder_labels: encoded_train_labels[random_image].reshape(1,10)})\n",
    "    \n",
    "    print(f\"The model achieved a training accuracy of {round(training_accuracy*100, 6)}%.\\n\")\n",
    "    print(f\"The model achieved a testing accuracy of {round(testing_accuracy*100, 6)}%.\\n\")\n",
    "    if random_image_result == 1:\n",
    "        print(f\"The model was able to predict the correct label of the image n°{random_image}, \" + \n",
    "              f\"i.e. a {train_labels[random_image]} digit. See image again below:\")\n",
    "    else:\n",
    "        print(f\"The model was not able to predict the correct label of the image n°{random_image}, \" + \n",
    "              f\"i.e. a {int(train_labels[random_image])} digit. See image again below:\")\n",
    "    plt.imshow(norm_train_images[random_image].reshape(28,28))"
   ]
  },
  {
   "cell_type": "markdown",
   "metadata": {},
   "source": [
    "## 6. Implementing LeNet\n",
    "We will be implementing the classic architecture of LeNet, developped by Yann LeCun, Leon Bottou, Yosuha Bengio and Patrick Haffner in the 1990s. The slight difference will\n",
    "![image](Images/LeNet_Original_Image.png)"
   ]
  },
  {
   "cell_type": "markdown",
   "metadata": {},
   "source": [
    "<u>1. Setting up parameters and hyperparameters:</u>"
   ]
  },
  {
   "cell_type": "code",
   "execution_count": 22,
   "metadata": {},
   "outputs": [],
   "source": [
    "tf.reset_default_graph()"
   ]
  },
  {
   "cell_type": "code",
   "execution_count": 23,
   "metadata": {},
   "outputs": [],
   "source": [
    "# Creating the filter shapes\n",
    "convolution_filter_shapes = ([5,5,1,6],\n",
    "                             [5,5,6,16])"
   ]
  },
  {
   "cell_type": "code",
   "execution_count": 24,
   "metadata": {},
   "outputs": [],
   "source": [
    "# Declaring the hyperparameters\n",
    "strides = {\"cnn_layer_1\": [1,1,1,1], \n",
    "           \"cnn_layer_2\": [1,1,1,1],\n",
    "           \"avg_pool_layer_1\": [1,2,2,1],\n",
    "           \"avg_pool_layer_2\": [1,2,2,1]}\n",
    "\n",
    "kernel_size = {\"avg_pool_layer_1\": [1,2,2,1], \n",
    "               \"avg_pool_layer_2\": [1,2,2,1]}\n",
    "\n",
    "padding = {\"cnn_layer_1\": \"SAME\", \n",
    "           \"cnn_layer_2\": \"SAME\", \n",
    "           \"avg_pool_layer_1\": \"VALID\", \n",
    "           \"avg_pool_layer_2\": \"VALID\"}\n",
    "\n",
    "output_layer_size = len(np.unique(train_labels))\n",
    "\n",
    "hyperparameters = {\"strides\": strides, \n",
    "                   \"kernel_size\": kernel_size, \n",
    "                   \"padding\": padding, \n",
    "                   \"output_size\": output_layer_size, \n",
    "                   \"learning_rate\": 0.01, \n",
    "                   \"number_epochs\": 100,\n",
    "                   \"minibatch_size\": 512, \n",
    "                   \"cost_printing\": True,\n",
    "                   \"seed\": 0}"
   ]
  },
  {
   "cell_type": "markdown",
   "metadata": {},
   "source": [
    "<u>2. Setting up tensorflow session structure:</u>"
   ]
  },
  {
   "cell_type": "code",
   "execution_count": 25,
   "metadata": {},
   "outputs": [],
   "source": [
    "def lenet_forward_propagation(data, parameters, hyperparameters):\n",
    "    \"\"\"\n",
    "    Implements the forward propagation for the machine learning model.\n",
    "    ---\n",
    "    variable <class 'numpy.ndarray'>: data\n",
    "    variable <class 'dict'>: parameters, hyperparameters\n",
    "    \"\"\"\n",
    "    #############\n",
    "    ###LAYER 1###\n",
    "    # CONV2D\n",
    "    Z1 = tf.nn.conv2d(data, \n",
    "                      parameters[\"W1\"], \n",
    "                      strides = hyperparameters[\"strides\"][\"cnn_layer_1\"], \n",
    "                      padding = hyperparameters[\"padding\"][\"cnn_layer_1\"])\n",
    "    # RELU\n",
    "    A1 = tf.nn.sigmoid(Z1)\n",
    "    # MAXPOOL\n",
    "    P1 = tf.nn.avg_pool(A1, \n",
    "                        ksize = hyperparameters[\"kernel_size\"][\"avg_pool_layer_1\"], \n",
    "                        strides = hyperparameters[\"strides\"][\"avg_pool_layer_1\"], \n",
    "                        padding = hyperparameters[\"padding\"][\"avg_pool_layer_1\"])\n",
    "    #############\n",
    "    ###LAYER 2###\n",
    "    # CONV2D\n",
    "    Z2 = tf.nn.conv2d(P1, \n",
    "                      parameters[\"W2\"], \n",
    "                      strides = hyperparameters[\"strides\"][\"cnn_layer_2\"], \n",
    "                      padding = hyperparameters[\"padding\"][\"cnn_layer_2\"])\n",
    "    # RELU\n",
    "    A2 = tf.nn.sigmoid(Z2)\n",
    "    # MAXPOOL\n",
    "    P2 = tf.nn.avg_pool(A2, \n",
    "                        ksize = hyperparameters[\"kernel_size\"][\"avg_pool_layer_2\"], \n",
    "                        strides = hyperparameters[\"strides\"][\"avg_pool_layer_2\"], \n",
    "                        padding = hyperparameters[\"padding\"][\"avg_pool_layer_2\"])\n",
    "    #############\n",
    "    ###LAYER 5###\n",
    "    # FLATTEN\n",
    "    F = tf.contrib.layers.flatten(P2)\n",
    "    # FULLY-CONNECTED #1\n",
    "    Z5 = tf.contrib.layers.fully_connected(F, \n",
    "                                           120, \n",
    "                                           activation_fn = tf.nn.sigmoid)\n",
    "    # FULLY-CONNECTED #2\n",
    "    Z6 = tf.contrib.layers.fully_connected(Z5, \n",
    "                                           84, \n",
    "                                           activation_fn = tf.nn.sigmoid)\n",
    "    # FULLY-CONNECTED #3\n",
    "    Z7 = tf.contrib.layers.fully_connected(Z6, \n",
    "                                           hyperparameters[\"output_size\"], \n",
    "                                           activation_fn = None)\n",
    "    return Z7\n",
    "\n",
    "def lenet_cost(data, labels):\n",
    "    \"\"\"\n",
    "    Computes the cost of the model.\n",
    "    ---\n",
    "    variables <class 'numpy.ndarray'>: data, labels\n",
    "    \"\"\"\n",
    "    cost = tf.reduce_mean(tf.nn.softmax_cross_entropy_with_logits(logits = data, \n",
    "                                                                  labels = labels))\n",
    "    return cost"
   ]
  },
  {
   "cell_type": "code",
   "execution_count": 26,
   "metadata": {},
   "outputs": [],
   "source": [
    "# Seeding random numbers for tensor parameters\n",
    "tf.set_random_seed(hyperparameters[\"seed\"])\n",
    "\n",
    "# Declaring scalars used for setting up tensorflow session.\n",
    "instance_height, instance_width, instance_channels = norm_train_images.shape[1:]\n",
    "label_numbers = encoded_train_labels.shape[1]"
   ]
  },
  {
   "cell_type": "code",
   "execution_count": 27,
   "metadata": {},
   "outputs": [
    {
     "name": "stdout",
     "output_type": "stream",
     "text": [
      "Tensorflow placeholder for instance data:\n",
      "Tensor(\"Placeholder:0\", shape=(?, 28, 28, 1), dtype=float32)\n",
      "Tensorflow placeholder for instance labels:\n",
      "Tensor(\"Placeholder_1:0\", shape=(?, 10), dtype=float32)\n"
     ]
    }
   ],
   "source": [
    "# Creating tensorflow placeholders.\n",
    "placeholder_data, placeholder_labels = tensorflow_placeholders(instance_height, \n",
    "                                                               instance_width, \n",
    "                                                               instance_channels, \n",
    "                                                               label_numbers)\n",
    "print(\"Tensorflow placeholder for instance data:\",\n",
    "      placeholder_data,\n",
    "      \"Tensorflow placeholder for instance labels:\",\n",
    "      placeholder_labels\n",
    "      , sep=\"\\n\")"
   ]
  },
  {
   "cell_type": "code",
   "execution_count": 28,
   "metadata": {},
   "outputs": [],
   "source": [
    "# Creating the parameters from filter shapes\n",
    "parameters = {\"W1\":initialize_parameters(\"W1\", convolution_filter_shapes[0]),\n",
    "              \"W2\":initialize_parameters(\"W2\", convolution_filter_shapes[1])}"
   ]
  },
  {
   "cell_type": "code",
   "execution_count": 29,
   "metadata": {},
   "outputs": [],
   "source": [
    "# Instancing the forward propagation in the tensorflow graph\n",
    "pass_results = lenet_forward_propagation(placeholder_data,\n",
    "                                         parameters,\n",
    "                                         hyperparameters)\n",
    "# Adding the cost function to the tensorflow graph\n",
    "cost = lenet_cost(pass_results, placeholder_labels)"
   ]
  },
  {
   "cell_type": "markdown",
   "metadata": {},
   "source": [
    "<u>3. Training LeNet:</u>"
   ]
  },
  {
   "cell_type": "code",
   "execution_count": 30,
   "metadata": {},
   "outputs": [],
   "source": [
    "# Defining the tensorflow optimizer.\n",
    "optimizer = tf.train.AdamOptimizer(hyperparameters[\"learning_rate\"]).minimize(loss = cost)\n",
    "\n",
    "# Initializing all variables globally\n",
    "init = tf.global_variables_initializer()"
   ]
  },
  {
   "cell_type": "code",
   "execution_count": 31,
   "metadata": {},
   "outputs": [],
   "source": [
    "# Declaring variables needed for session run\n",
    "costs = []\n",
    "test_acc_per_epoch = []\n",
    "number_examples, height, width, channels = norm_train_images.shape\n",
    "learning_rate = hyperparameters[\"learning_rate\"]\n",
    "testing_accuracy = 0.\n",
    "training_accuracy = 0."
   ]
  },
  {
   "cell_type": "code",
   "execution_count": 32,
   "metadata": {},
   "outputs": [
    {
     "name": "stdout",
     "output_type": "stream",
     "text": [
      "Cost after epoch 0: 2.33732\n",
      "Cost after epoch 10: 2.32342\n",
      "Cost after epoch 20: 2.32389\n",
      "Cost after epoch 30: 2.32357\n",
      "Cost after epoch 40: 0.01271\n",
      "Cost after epoch 50: 0.00437\n",
      "Cost after epoch 60: 0.00772\n",
      "Cost after epoch 70: 9e-05\n",
      "Cost after epoch 80: 3e-05\n",
      "Cost after epoch 90: 2e-05\n",
      "Cost after epoch 99: 1e-05\n"
     ]
    },
    {
     "data": {
      "image/png": "[encoded data removed]",
      "text/plain": [
       "<Figure size 1080x432 with 2 Axes>"
      ]
     },
     "metadata": {
      "needs_background": "light"
     },
     "output_type": "display_data"
    },
    {
     "name": "stdout",
     "output_type": "stream",
     "text": [
      "The model achieved a training accuracy of 100.0%.\n",
      "\n",
      "The model achieved a testing accuracy of 99.033717%.\n",
      "\n",
      "The model was able to predict the correct label of the image n°22337, i.e. a [0] digit. See image again below:\n"
     ]
    },
    {
     "data": {
      "image/png": "[encoded data removed]",
      "text/plain": [
       "<Figure size 432x288 with 1 Axes>"
      ]
     },
     "metadata": {
      "needs_background": "light"
     },
     "output_type": "display_data"
    }
   ],
   "source": [
    "with tf.Session() as session:\n",
    "    # Initializing\n",
    "    session.run(init)\n",
    "    #Instantiating epoch loop\n",
    "    for epoch in range(hyperparameters[\"number_epochs\"]):\n",
    "        # Declaring/Updating parameters and/or variables\n",
    "        batch_cost = 0.\n",
    "        number_batches = int(number_examples/hyperparameters[\"minibatch_size\"])\n",
    "        hyperparameters[\"seed\"] += 1\n",
    "        # Producing random batches\n",
    "        batches = random_batches(norm_train_images, \n",
    "                                 encoded_train_labels, \n",
    "                                 hyperparameters[\"seed\"], \n",
    "                                 hyperparameters[\"minibatch_size\"])\n",
    "        # Running forward then backward propagations\n",
    "        # Updating costs\n",
    "        for batch in batches:\n",
    "            (batch_data, batch_labels) = batch\n",
    "            _, epoch_cost = session.run(fetches = [optimizer, cost], \n",
    "                                        feed_dict = {placeholder_data: batch_data, \n",
    "                                                     placeholder_labels: batch_labels})\n",
    "            batch_cost += epoch_cost / number_batches\n",
    "        # Printing session data if requested\n",
    "        if (hyperparameters[\"cost_printing\"] == True and epoch % 10 == 0) or \\\n",
    "        epoch == max(range(hyperparameters[\"number_epochs\"])): \n",
    "            print(f\"Cost after epoch {epoch}: {round(batch_cost, 5)}\")\n",
    "        # Recording testing accuracy.\n",
    "        # Instantiating predictions based on trained model\n",
    "        predictor = tf.argmax(pass_results, 1)\n",
    "        correct_prediction = tf.equal(predictor,\n",
    "                                      tf.argmax(placeholder_labels, 1))\n",
    "        accuracy = tf.reduce_mean(tf.cast(correct_prediction, \"float\")) \n",
    "        accuracy_performance_per_iteration = accuracy_test(accuracy,\n",
    "                                                           norm_test_images.shape[0],\n",
    "                                                           hyperparameters[\"minibatch_size\"],\n",
    "                                                           norm_test_images,\n",
    "                                                           encoded_test_labels)\n",
    "        test_acc_per_epoch.append(accuracy_performance_per_iteration)\n",
    "        # Recording batch costs.\n",
    "        costs.append(batch_cost)\n",
    "    \n",
    "    fig, ax = plt.subplots(1, 2, figsize=(15, 6)) \n",
    "    fig.suptitle(f\"Learning rate was {learning_rate}.\")\n",
    "    # Plotting costs per iteration\n",
    "    ax[0].plot(costs)\n",
    "    ax[0].set_ylabel(\"Cost\")\n",
    "    ax[0].set_xlabel(\"Epochs/Iterations\")\n",
    "    # Plotting testing accuracy per epoch\n",
    "    ax[1].plot(test_acc_per_epoch)\n",
    "    ax[1].set_ylabel(\"Testing Accuracy Per Epoch\")\n",
    "    ax[1].set_xlabel(\"Epochs/Iterations\")\n",
    "    plt.show()\n",
    "    \n",
    "    # Instantiating predictions based on trained model\n",
    "    predictor = tf.argmax(pass_results, 1)\n",
    "    correct_prediction = tf.equal(predictor,\n",
    "                                  tf.argmax(placeholder_labels, 1))\n",
    "    accuracy = tf.reduce_mean(tf.cast(correct_prediction, \"float\"))\n",
    "    training_accuracy = accuracy_test(accuracy,\n",
    "                                      number_examples, \n",
    "                                      hyperparameters[\"minibatch_size\"], \n",
    "                                      norm_train_images, \n",
    "                                      encoded_train_labels)\n",
    "    testing_accuracy = accuracy_test(accuracy,\n",
    "                                     norm_test_images.shape[0], \n",
    "                                     hyperparameters[\"minibatch_size\"], \n",
    "                                     norm_test_images, \n",
    "                                     encoded_test_labels)\n",
    "\n",
    "    # Testing accuracy of model on the randomly-picked image in part 2.\n",
    "    random_image_result = accuracy.eval(feed_dict = {placeholder_data: norm_train_images[random_image].reshape(1,28,28,1), \n",
    "                                                     placeholder_labels: encoded_train_labels[random_image].reshape(1,10)})\n",
    "    \n",
    "    print(f\"The model achieved a training accuracy of {round(training_accuracy*100, 6)}%.\\n\")\n",
    "    print(f\"The model achieved a testing accuracy of {round(testing_accuracy*100, 6)}%.\\n\")\n",
    "    if random_image_result == 1:\n",
    "        print(f\"The model was able to predict the correct label of the image n°{random_image}, \" + \n",
    "              f\"i.e. a {train_labels[random_image]} digit. See image again below:\")\n",
    "    else:\n",
    "        print(f\"The model was not able to predict the correct label of the image n°{random_image}, \" + \n",
    "              f\"i.e. a {int(train_labels[random_image])} digit. See image again below:\")\n",
    "    plt.imshow(norm_train_images[random_image].reshape(28,28))"
   ]
  },
  {
   "cell_type": "markdown",
   "metadata": {},
   "source": [
    "The following structure shows issues with exploding/vanishing gradients and seems stuck on a plateau until a random point."
   ]
  }
 ],
 "metadata": {
  "kernelspec": {
   "display_name": "Python 3",
   "language": "python",
   "name": "python3"
  },
  "language_info": {
   "codemirror_mode": {
    "name": "ipython",
    "version": 3
   },
   "file_extension": ".py",
   "mimetype": "text/x-python",
   "name": "python",
   "nbconvert_exporter": "python",
   "pygments_lexer": "ipython3",
   "version": "3.8.3"
  }
 },
 "nbformat": 4,
 "nbformat_minor": 2
}
