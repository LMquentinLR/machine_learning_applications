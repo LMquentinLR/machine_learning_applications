{
 "cells": [
  {
   "cell_type": "markdown",
   "metadata": {},
   "source": [
    "# TP logistic regression\n",
    "Diane Lingrand (diane.lingrand@univ-cotedazur)\n",
    "\n",
    "M1 - DSAI - 2020-21"
   ]
  },
  {
   "cell_type": "markdown",
   "metadata": {},
   "source": [
    "https://scikit-learn.org/stable/modules/generated/sklearn.linear_model.LogisticRegression.html#sklearn.linear_model.LogisticRegression"
   ]
  },
  {
   "cell_type": "markdown",
   "metadata": {},
   "source": [
    "## dataset: MNIST"
   ]
  },
  {
   "cell_type": "code",
   "execution_count": 1,
   "metadata": {},
   "outputs": [],
   "source": [
    "#necessary imports\n",
    "import matplotlib.pyplot as plt\n",
    "import numpy as np\n",
    "from sklearn.linear_model import LogisticRegression\n",
    "from sklearn.metrics import confusion_matrix, plot_confusion_matrix, f1_score\n",
    "import random as rd"
   ]
  },
  {
   "cell_type": "code",
   "execution_count": 2,
   "metadata": {},
   "outputs": [],
   "source": [
    "# reading the dataset\n",
    "from tensorflow.keras.datasets import mnist\n",
    "(x_train, y_train), (x_test, y_test) = mnist.load_data()\n",
    "\n",
    "def normalize(dataset):\n",
    "    return dataset/255.\n",
    "\n",
    "x_train, x_test = normalize(x_train), normalize(x_test)"
   ]
  },
  {
   "cell_type": "code",
   "execution_count": 3,
   "metadata": {},
   "outputs": [
    {
     "data": {
      "image/png": "[encoded data removed]",
      "text/plain": [
       "<Figure size 432x288 with 1 Axes>"
      ]
     },
     "metadata": {
      "needs_background": "light"
     },
     "output_type": "display_data"
    }
   ],
   "source": [
    "#display one of the pictures (the 11th in this code)\n",
    "import matplotlib.pyplot as plt\n",
    "i = rd.randint(0,len(x_train))\n",
    "plt.imshow(x_train[i],aspect=\"auto\",cmap='gray')\n",
    "plt.show()"
   ]
  },
  {
   "cell_type": "code",
   "execution_count": 4,
   "metadata": {},
   "outputs": [],
   "source": [
    "# case of binary classification\n",
    "\n",
    "# you can change the classes\n",
    "class1 = 4 #negative class\n",
    "class2 = 8 #positive class\n",
    "nameClass1 = '4'\n",
    "nameClass2 = '8'\n",
    "mesClassesTrain = (y_train==class1)|(y_train==class2)\n",
    "mesClassesTest = (y_test==class1)|(y_test==class2)\n",
    "\n",
    "## TRAIN\n",
    "x_trainBinaire = np.array(x_train[mesClassesTrain,:])\n",
    "y_trainBinaire = np.array((y_train[mesClassesTrain]-class1)/(class2-class1))\n",
    "\n",
    "## TEST\n",
    "x_testBinaire = np.array(x_test[mesClassesTest,:])\n",
    "y_testBinaire = np.array((y_test[mesClassesTest]-class1)/(class2-class1))"
   ]
  },
  {
   "cell_type": "code",
   "execution_count": 5,
   "metadata": {},
   "outputs": [],
   "source": [
    "# reshaping the data (a 2d image is transformed to a 1d array)\n",
    "#train\n",
    "n = x_trainBinaire.shape[0]\n",
    "x_trainBinaireLin = x_trainBinaire.reshape(n,-1)\n",
    "#test\n",
    "n = x_testBinaire.shape[0]\n",
    "x_testBinaireLin = x_testBinaire.reshape(n,-1)"
   ]
  },
  {
   "cell_type": "code",
   "execution_count": 6,
   "metadata": {},
   "outputs": [
    {
     "name": "stdout",
     "output_type": "stream",
     "text": [
      "learning done\n"
     ]
    }
   ],
   "source": [
    "#default constructor\n",
    "myRegLog = LogisticRegression(max_iter=300,solver=\"liblinear\")\n",
    "#learning\n",
    "myRegLog.fit(x_trainBinaireLin,y_trainBinaire)\n",
    "print(\"learning done\")"
   ]
  },
  {
   "cell_type": "markdown",
   "metadata": {},
   "source": [
    "You may read an error message. What does it mean? However, it is possible to measure the performance of the learned classification method."
   ]
  },
  {
   "cell_type": "code",
   "execution_count": 7,
   "metadata": {
    "scrolled": true
   },
   "outputs": [
    {
     "name": "stdout",
     "output_type": "stream",
     "text": [
      "F1 score :  0.9927760577915377\n"
     ]
    },
    {
     "data": {
      "image/png": "[encoded data removed]",
      "text/plain": [
       "<Figure size 432x288 with 2 Axes>"
      ]
     },
     "metadata": {
      "needs_background": "light"
     },
     "output_type": "display_data"
    }
   ],
   "source": [
    "y_predBinaireTest = myRegLog.predict(x_testBinaireLin)\n",
    "\n",
    "disp = plot_confusion_matrix(myRegLog, x_testBinaireLin, y_testBinaire,\n",
    "                                 display_labels=[nameClass1,nameClass2],\n",
    "                                 cmap=plt.cm.Blues,\n",
    "                                 normalize=None)\n",
    "disp.ax_.set_title('Confusion matrix')\n",
    "print(\"F1 score : \", f1_score(y_predBinaireTest,y_testBinaire))"
   ]
  },
  {
   "cell_type": "markdown",
   "metadata": {},
   "source": [
    "The logistic regression has been build with default parameters. Follow the recommandation and try different hints:\n",
    "- algorithm terminaison: max number of iterations, ....\n",
    "- data preprocessing: standardisation\n",
    "- solver (liblinear, sag, saga, ...)\n",
    "- regularisation\n",
    "\n",
    "Did you get better results ?"
   ]
  },
  {
   "cell_type": "markdown",
   "metadata": {},
   "source": [
    "## The whole dataset with the 10 classes"
   ]
  },
  {
   "cell_type": "code",
   "execution_count": 8,
   "metadata": {},
   "outputs": [
    {
     "name": "stdout",
     "output_type": "stream",
     "text": [
      "Downloading data from https://storage.googleapis.com/tensorflow/tf-keras-datasets/train-labels-idx1-ubyte.gz\n",
      "32768/29515 [=================================] - 0s 1us/step\n",
      "Downloading data from https://storage.googleapis.com/tensorflow/tf-keras-datasets/train-images-idx3-ubyte.gz\n",
      "26427392/26421880 [==============================] - 4s 0us/step\n",
      "Downloading data from https://storage.googleapis.com/tensorflow/tf-keras-datasets/t10k-labels-idx1-ubyte.gz\n",
      "8192/5148 [===============================================] - 0s 0us/step\n",
      "Downloading data from https://storage.googleapis.com/tensorflow/tf-keras-datasets/t10k-images-idx3-ubyte.gz\n",
      "4423680/4422102 [==============================] - 1s 0us/step\n"
     ]
    }
   ],
   "source": [
    "# reading the dataset\n",
    "from tensorflow.keras.datasets import fashion_mnist\n",
    "(x_train, y_train), (x_test, y_test) = fashion_mnist.load_data()\n",
    "\n",
    "x_train, x_test = normalize(x_train), normalize(x_test)"
   ]
  },
  {
   "cell_type": "code",
   "execution_count": 9,
   "metadata": {},
   "outputs": [
    {
     "data": {
      "image/png": "[encoded data removed]",
      "text/plain": [
       "<Figure size 432x288 with 1 Axes>"
      ]
     },
     "metadata": {
      "needs_background": "light"
     },
     "output_type": "display_data"
    }
   ],
   "source": [
    "i = rd.randint(0,len(x_train))\n",
    "plt.imshow(x_train[i],aspect=\"auto\",cmap='gray')\n",
    "plt.show()"
   ]
  },
  {
   "cell_type": "code",
   "execution_count": 10,
   "metadata": {},
   "outputs": [],
   "source": [
    "# reshaping the data (a 2d image is transformed to a 1d array)\n",
    "#train\n",
    "n = x_train.shape[0]\n",
    "x_train = x_train.reshape(n,-1)\n",
    "#test\n",
    "n = x_test.shape[0]\n",
    "x_test = x_test.reshape(n,-1)"
   ]
  },
  {
   "cell_type": "code",
   "execution_count": 11,
   "metadata": {},
   "outputs": [
    {
     "name": "stdout",
     "output_type": "stream",
     "text": [
      "learning done\n"
     ]
    }
   ],
   "source": [
    "#newton-cg constructor\n",
    "myRegLog = LogisticRegression(max_iter=200,solver=\"liblinear\")\n",
    "#learning\n",
    "myRegLog.fit(x_train,y_train)\n",
    "print(\"learning done\")"
   ]
  },
  {
   "cell_type": "code",
   "execution_count": 12,
   "metadata": {},
   "outputs": [
    {
     "name": "stdout",
     "output_type": "stream",
     "text": [
      "F1 score :  0.8428727333820559\n"
     ]
    },
    {
     "data": {
      "image/png": "[encoded data removed]",
      "text/plain": [
       "<Figure size 432x288 with 2 Axes>"
      ]
     },
     "metadata": {
      "needs_background": "light"
     },
     "output_type": "display_data"
    }
   ],
   "source": [
    "y_pred = myRegLog.predict(x_test)\n",
    "\n",
    "labels = [\"T-shirt/top\",\"Trouser\",\"Pullover\",\"Dress\",\"Coat\",\"Sandal\",\"Shirt\",\"Sneaker\", \"Bag\", \"Ankle Boot\"]\n",
    "\n",
    "disp = plot_confusion_matrix(myRegLog, x_test, y_test,\n",
    "                             display_labels=labels,\n",
    "                             cmap=plt.cm.Blues,\n",
    "                             normalize=None,\n",
    "                             xticks_rotation='vertical')\n",
    "\n",
    "disp.ax_.set_title('Confusion matrix')\n",
    "print(\"F1 score : \", f1_score(y_pred,y_test,average=\"weighted\"))"
   ]
  },
  {
   "cell_type": "code",
   "execution_count": null,
   "metadata": {},
   "outputs": [],
   "source": []
  }
 ],
 "metadata": {
  "kernelspec": {
   "display_name": "Python 3",
   "language": "python",
   "name": "python3"
  },
  "language_info": {
   "codemirror_mode": {
    "name": "ipython",
    "version": 3
   },
   "file_extension": ".py",
   "mimetype": "text/x-python",
   "name": "python",
   "nbconvert_exporter": "python",
   "pygments_lexer": "ipython3",
   "version": "3.8.5"
  }
 },
 "nbformat": 4,
 "nbformat_minor": 2
}
