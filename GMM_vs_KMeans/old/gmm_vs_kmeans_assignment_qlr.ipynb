{
 "cells": [
  {
   "cell_type": "markdown",
   "metadata": {},
   "source": [
    "# Gaussian Mixture Model vs. KMeans\n",
    "\n",
    "**Assignment**: Comparison of the KMeans method and GMM for clustering using the Fashion-MNIST dataset. Explore the parameters of GMM.\n",
    "\n",
    "<hr>\n",
    "\n",
    "### Table of Content\n",
    "\n",
    "- **0. Introduction**\n",
    "    - Task Description\n",
    "    - Importing Modules\n",
    "    \n",
    "    \n",
    "- **1. Importing the Dataset**\n",
    "    - Importing\n",
    "    - Data Pre-Processing\n",
    "\n",
    "\n",
    "- **2. Implementing our own gridsearch**\n",
    "\n",
    "\n",
    "- **3. Implementation of KMeans**\n",
    "    - Simple Implementation From Scratch (without gridsearch)\n",
    "    - Implementation using SciKit-Learn\n",
    "    \n",
    "    \n",
    "- **4. Implementation of GMM**\n",
    "    - Simple Implementation From Scratch (without gridsearch)\n",
    "    - Implementation using SciKit-Learn\n",
    "    \n",
    "    \n",
    "- **5. Comparing the best results of both KMeans and GMM**\n",
    "\n",
    "\n",
    "- **6. Exploring the parameters of GMM, i.e. Implementing Efficient Greedy Learning**\n",
    "\n",
    "\n",
    "- **7. References**\n",
    "\n",
    "<hr>\n",
    "\n",
    "## 0. Introduction\n",
    "\n",
    "### 0.1 Task Description"
   ]
  },
  {
   "cell_type": "markdown",
   "metadata": {},
   "source": [
    "### 0.2 Importing Modules"
   ]
  },
  {
   "cell_type": "code",
   "execution_count": 1,
   "metadata": {},
   "outputs": [],
   "source": [
    "from keras.datasets import fashion_mnist\n",
    "\n",
    "from itertools import cycle\n",
    "import math\n",
    "import matplotlib.pyplot as plt\n",
    "import numpy as np\n",
    "import pandas as pd\n",
    "import random as rd\n",
    "\n",
    "from sklearn.cluster import KMeans\n",
    "from sklearn.datasets import make_blobs\n",
    "from sklearn.metrics import homogeneity_score\n",
    "from sklearn.metrics import silhouette_score\n",
    "from sklearn.metrics import v_measure_score\n",
    "from sklearn.mixture import GaussianMixture\n",
    "\n",
    "import warnings\n",
    "warnings.filterwarnings('ignore')\n",
    "warnings.simplefilter('ignore')"
   ]
  },
  {
   "cell_type": "markdown",
   "metadata": {},
   "source": [
    "## 1. Importing the dataset: Fashion-MNIST\n",
    "\n",
    "### 1.1. Importing"
   ]
  },
  {
   "cell_type": "code",
   "execution_count": 2,
   "metadata": {},
   "outputs": [
    {
     "name": "stdout",
     "output_type": "stream",
     "text": [
      "Shape of x_train: (60000, 28, 28)\n",
      "Shape of y_train: (60000,)\n",
      "Shape of x_test: (10000, 28, 28)\n",
      "Shape of y_test: (10000,)\n"
     ]
    }
   ],
   "source": [
    "(x_train, y_train), (x_test, y_test) = fashion_mnist.load_data()\n",
    "\n",
    "print(f\"Shape of x_train: {x_train.shape}\")\n",
    "print(f\"Shape of y_train: {y_train.shape}\")\n",
    "print(f\"Shape of x_test: {x_test.shape}\")\n",
    "print(f\"Shape of y_test: {y_test.shape}\")"
   ]
  },
  {
   "cell_type": "code",
   "execution_count": 3,
   "metadata": {},
   "outputs": [],
   "source": [
    "labelNames = [\"T-shirt/Top\", \"Trouser\", \"Pullover\", \"Dress\", \"Coat\", \"Sandal\", \"Shirt\", \"Sneaker\", \"Bag\", \"Ankle boot\"]"
   ]
  },
  {
   "cell_type": "code",
   "execution_count": 4,
   "metadata": {
    "scrolled": false
   },
   "outputs": [
    {
     "data": {
      "image/png": "[encoded data removed]",
      "text/plain": [
       "<Figure size 504x504 with 9 Axes>"
      ]
     },
     "metadata": {},
     "output_type": "display_data"
    }
   ],
   "source": [
    "#Sample images\n",
    "length = 3\n",
    "plt.figure(figsize=(7, 7)) \n",
    "for i in range(length * length):\n",
    "    temp = rd.randint(0, len(x_train)+1)\n",
    "    image = x_train[temp] \n",
    "    plt.subplot(length, length, i+1)       \n",
    "    plt.imshow(image, cmap='gray')  \n",
    "    plt.xticks([])\n",
    "    plt.yticks([])\n",
    "    plt.xlabel(labelNames[y_train[temp]])\n",
    "    plt.tight_layout()   \n",
    "plt.show()"
   ]
  },
  {
   "cell_type": "markdown",
   "metadata": {},
   "source": [
    "### 1.2. Data Preprocessing\n",
    "\n",
    "**Normalization**: Each item in the dataset is a grayscale picture (1 channel) where each pixel is a value lying between $0$ and $255$. We need to rescale each image to the [0,1] range, i.e., normalize our images. This rescaling is done by dividing each pixel value by 255."
   ]
  },
  {
   "cell_type": "code",
   "execution_count": 5,
   "metadata": {},
   "outputs": [
    {
     "name": "stdout",
     "output_type": "stream",
     "text": [
      "One pixel before normalization: 204\n",
      "One pixel after normalization: 0.8\n"
     ]
    }
   ],
   "source": [
    "# Before\n",
    "print(f\"One pixel before normalization: {x_train[0][5][15]}\")\n",
    "\n",
    "# Normalization\n",
    "x_train = x_train / 255.\n",
    "x_test = x_test / 255.\n",
    "\n",
    "# After\n",
    "print(f\"One pixel after normalization: {x_train[0][5][15]}\")"
   ]
  },
  {
   "cell_type": "markdown",
   "metadata": {},
   "source": [
    "**Flattening**: Since each image is a 2d picture of 28 pixels by 28, we need to reshape our data so it can be fed in a model. To do so, we reshape our image into a single dimension of size 28\\*28, i.e. 784."
   ]
  },
  {
   "cell_type": "code",
   "execution_count": 6,
   "metadata": {},
   "outputs": [
    {
     "name": "stdout",
     "output_type": "stream",
     "text": [
      "Shape of x_train_processed: (60000, 784)\n",
      "Shape of x_test_processed: (10000, 784)\n"
     ]
    }
   ],
   "source": [
    "x_train_processed = x_train.reshape(len(x_train), 784)\n",
    "x_test_processed = x_test.reshape(len(x_test), 784)\n",
    "\n",
    "print(f\"Shape of x_train_processed: {x_train_processed.shape}\")\n",
    "print(f\"Shape of x_test_processed: {x_test_processed.shape}\")"
   ]
  },
  {
   "cell_type": "markdown",
   "metadata": {},
   "source": [
    "## 2. Implementing a Clustering GridSearch"
   ]
  },
  {
   "cell_type": "code",
   "execution_count": 7,
   "metadata": {},
   "outputs": [],
   "source": [
    "class GridSearch():\n",
    "    def __init__(self, model, hyperparameters, n_jobs):\n",
    "        \"\"\"\n",
    "        \n",
    "        \"\"\"\n",
    "        if model == \"kmeans\":\n",
    "            self.model = \"kmeans\"\n",
    "        else:\n",
    "            self.model = \"gaussian\"\n",
    "        self.hyperparameters = hyperparameters\n",
    "        self.n_jobs = n_jobs\n",
    "        self.training_results = {}\n",
    "    \n",
    "    def fit(self, x_train, y_train):\n",
    "        \"\"\"\n",
    "        \n",
    "        \"\"\"\n",
    "        model_number = 0\n",
    "        if self.model==\"kmeans\":\n",
    "            for component in self.hyperparameters[\"n\"]:\n",
    "                for initialization in hyperparameters[\"init\"]:\n",
    "                    for algorithm in hyperparameters[\"algorithm\"]:\n",
    "                        model_number += 1\n",
    "                        model = KMeans(n_clusters=component, \n",
    "                                       init=initialization, \n",
    "                                       algorithm=algorithm,\n",
    "                                       n_jobs=self.n_jobs,\n",
    "                                       random_state=0)\n",
    "                        model.fit(x_train)\n",
    "                        h_score, v_score, sil_score = self.scoring(model, x_train, y_train)\n",
    "                        print(f\"KMeans #{model_number} trained with {component} components, \" + \n",
    "                              f\"{initialization} initialization and {algorithm} algorithm, \" +\n",
    "                              f\"yielding homogeneity, v_measure and silhouette scores of {h_score}, \" +\n",
    "                              f\"{v_score} and {sil_score} resp.\")\n",
    "                        self.training_results[model_number] = {\"n_clusters\": component, \n",
    "                                                               \"init\": initialization, \n",
    "                                                               \"algorithm\": algorithm, \n",
    "                                                               \"model\": model,\n",
    "                                                               \"homogeneity_score\": h_score,\n",
    "                                                               \"v_measure_score\": v_score}\n",
    "        else:\n",
    "            for component in hyperparameters[\"n\"]:\n",
    "                for covariance in hyperparameters[\"covariance_type\"]:\n",
    "                    model_number += 1\n",
    "                    model = GaussianMixtureModel(n_components=component, \n",
    "                                                 covariance_type=covariance,\n",
    "                                                 n_jobs=self.n_jobs,\n",
    "                                                 random_state=0)\n",
    "                    model.fit(x_train)\n",
    "                    h_score, v_score, sil_score = self.scoring(model, x_train, y_train)\n",
    "                    print(f\"GMM #{model_number} trained with {component} components and cov. type {covariance}, \" +\n",
    "                          f\"yielding homogeneity, v_measure and silhouette scores of {h_score}, {v_score} and \" + \n",
    "                          f\"{sil_score} resp.\")\n",
    "                    self.training_results[model_number] = {\"n_components\":component, \n",
    "                                                           \"covariance_type\":covariance, \n",
    "                                                           \"model\": model,\n",
    "                                                           \"homogeneity_score\": h_score,\n",
    "                                                           \"v_measure_score\": v_score}\n",
    "        \n",
    "        return self.training_results\n",
    "        \n",
    "    def scoring(self, model, X, y):\n",
    "        \"\"\"\n",
    "        \n",
    "        \"\"\"\n",
    "        y_pred = model.predict(X)\n",
    "        v_score = v_measure_score(y, y_pred)\n",
    "        h_score = homogeneity_score(y, y_pred)\n",
    "        sil_score = silhouette_score(X, y_pred, metric='euclidean')\n",
    "        return h_score, v_score, sil_score\n",
    "    \n",
    "    def predict(self, model_number, x_test, y_test):\n",
    "        \"\"\"\n",
    "        \n",
    "        \"\"\"\n",
    "        model = self.training_results[model_number][\"model\"]\n",
    "        h_score, v_score, sil_score = self.scoring(model, x_test, y_test)\n",
    "        print(f\"GMM #{model_number} yielded homogeneity, v_measure and silhouette scores \"+\n",
    "              f\"of {h_score}, {v_score} and {sil_score} resp. on the test set\")\n",
    "        return model.predict(x_test)"
   ]
  },
  {
   "cell_type": "markdown",
   "metadata": {},
   "source": [
    "## 3. Implementation of KMeans\n",
    "\n",
    "\n",
    "\n",
    "\n",
    "### 3.1. Simple Implementation From Scratch (without gridsearch)\n",
    "\n",
    "First of all, let's build our own KNN to see how it works. Using the ``make_blobs`` function from the SciKit-Learn library we implement a Kmeans using euclidian distance metrics."
   ]
  },
  {
   "cell_type": "code",
   "execution_count": 8,
   "metadata": {},
   "outputs": [],
   "source": [
    "def generate_data(number_of_points):\n",
    "    \"\"\"\n",
    "    Generates a set of 2-dimensional coordinates, their x and y axes random values between 0 and 99.\n",
    "    The set is generate with a random number of centers (between 2 and 9)\n",
    "    \"\"\"\n",
    "    X, _ = make_blobs(n_samples=number_of_points, centers=rd.randint(2,10), n_features=2, random_state=0)\n",
    "    return X\n",
    "\n",
    "def compare_dict(dict1, dict2):\n",
    "    \"\"\"\n",
    "    Compares two dictionaries, asserting that they are identical or not.\n",
    "    \"\"\"\n",
    "    for key in dict1.keys():\n",
    "        if not np.array_equal(dict1[key], dict2[key]): return False\n",
    "    return True\n",
    "\n",
    "def euclidian_distance(p1, p2):\n",
    "    \"\"\"\n",
    "    Calculates the euclidian distance between two points in the R² space.\n",
    "    \"\"\"\n",
    "    distance = 0\n",
    "    for idx, item in enumerate(p1): \n",
    "        distance += (item - p2[idx]) ** 2\n",
    "    return math.sqrt(distance)"
   ]
  },
  {
   "cell_type": "code",
   "execution_count": 9,
   "metadata": {},
   "outputs": [],
   "source": [
    "class k_means():\n",
    "    def __init__(self, nb_of_data_points, k=2):\n",
    "        \"\"\"\n",
    "        Initializes the k-means class.\n",
    "        \"\"\"\n",
    "        self.data = generate_data(nb_of_data_points)\n",
    "        self.k = k\n",
    "        self.colors = cycle([\"g\",\"r\",\"b\",\"c\",\"m\",\"y\"])\n",
    "        self.iterated = 0\n",
    "        \n",
    "        # Generates an empty dictionary to store each step's centroids\n",
    "        self.model_centroids = {}\n",
    "        \n",
    "        # Generates an empty dictionary to store each step's classification\n",
    "        self.model_classifications = {}\n",
    "    \n",
    "    \n",
    "    def fit(self, max_iterations=100):\n",
    "        \"\"\"\n",
    "        Fits the model.\n",
    "        \"\"\"\n",
    "        self.iterated = 0\n",
    "        \n",
    "        # Select the initial k centroids\n",
    "        centroids = rd.sample(list(self.data), 2)\n",
    "        \n",
    "        # Iterates to fit the model\n",
    "        for iteration in range(max_iterations):\n",
    "            print(f\"Epoch {iteration}\")\n",
    "            \n",
    "            # Generates an empty dictionary to store the step's classification\n",
    "            step_classification = {}\n",
    "            for k in range(self.k): step_classification[k] = []\n",
    "            \n",
    "            # Calculates the euclidian distance between each data points and each centroids\n",
    "            # Records the points in the classification corresponding to its nearest centroid\n",
    "            for point in self.data:\n",
    "                distances = list(map(lambda x: euclidian_distance(point, x), centroids))\n",
    "                argmin = min(range(len(distances)), key=distances.__getitem__)\n",
    "                step_classification[argmin].append(point)\n",
    "            \n",
    "            # Records the state of the model after the iteration's fitting\n",
    "            self.model_centroids[iteration] = centroids\n",
    "            self.model_classifications[iteration] = step_classification\n",
    "            \n",
    "            # If no change has been identified between this iteration and the last, the model will stop.\n",
    "            if len(self.model_classifications)>1:\n",
    "                if compare_dict(self.model_classifications[iteration],\n",
    "                                self.model_classifications[iteration-1]):\n",
    "                    self.iterated = iteration\n",
    "                    print(f\"No significant change has been achieved during epoch {self.iterated}. \"+\\\n",
    "                          \"Model is considered fitted.\")\n",
    "                    break\n",
    "            \n",
    "            # Updates the centroids\n",
    "            centroids = []\n",
    "            for classification in step_classification.values():\n",
    "                if classification == []: centroids.append(np.zeros(3))\n",
    "                else: centroids.append(np.mean(classification, axis=0))\n",
    "       \n",
    "    \n",
    "    def plot_data(self):\n",
    "        \"\"\"\n",
    "        Plots the distribution of the data\n",
    "        \"\"\"\n",
    "        # Declares the plot\n",
    "        plt.figure(figsize=(6,6))\n",
    "\n",
    "        # Plots the data without colors if the dataset was not iterated over.\n",
    "        if self.model_centroids == {} or self.iterated == 0:\n",
    "            plt.scatter(self.data[:,0],self.data[:,1])\n",
    "\n",
    "        else:\n",
    "            # Plots the centroids first\n",
    "            for centroid in self.model_centroids[self.iterated]:\n",
    "                plt.scatter(centroid[0], centroid[1], \n",
    "                            marker=\"o\", color=\"k\", s=50, linewidths=5)\n",
    "\n",
    "            # plots the data points\n",
    "            for classification in self.model_classifications[self.iterated].values():\n",
    "                color = next(self.colors)\n",
    "                for feature in classification:\n",
    "                    plt.scatter(feature[0], feature[1], \n",
    "                                marker='x', color=color, s=20, linewidths=2)\n",
    "        plt.show()"
   ]
  },
  {
   "cell_type": "code",
   "execution_count": 10,
   "metadata": {},
   "outputs": [
    {
     "data": {
      "image/png": "[encoded data removed]",
      "text/plain": [
       "<Figure size 432x432 with 1 Axes>"
      ]
     },
     "metadata": {
      "needs_background": "light"
     },
     "output_type": "display_data"
    },
    {
     "name": "stdout",
     "output_type": "stream",
     "text": [
      "Epoch 0\n",
      "Epoch 1\n",
      "Epoch 2\n",
      "Epoch 3\n",
      "Epoch 4\n",
      "Epoch 5\n",
      "Epoch 6\n",
      "Epoch 7\n",
      "Epoch 8\n",
      "Epoch 9\n",
      "Epoch 10\n",
      "Epoch 11\n",
      "Epoch 12\n",
      "Epoch 13\n",
      "Epoch 14\n",
      "Epoch 15\n",
      "Epoch 16\n",
      "Epoch 17\n",
      "Epoch 18\n",
      "Epoch 19\n",
      "Epoch 20\n",
      "Epoch 21\n",
      "Epoch 22\n",
      "Epoch 23\n",
      "Epoch 24\n",
      "Epoch 25\n",
      "Epoch 26\n",
      "Epoch 27\n",
      "Epoch 28\n",
      "Epoch 29\n",
      "Epoch 30\n",
      "Epoch 31\n",
      "Epoch 32\n",
      "Epoch 33\n",
      "Epoch 34\n",
      "Epoch 35\n",
      "Epoch 36\n",
      "Epoch 37\n",
      "Epoch 38\n",
      "Epoch 39\n",
      "Epoch 40\n",
      "Epoch 41\n",
      "No significant change has been achieved during epoch 41. Model is considered fitted.\n"
     ]
    },
    {
     "data": {
      "image/png": "[encoded data removed]",
      "text/plain": [
       "<Figure size 432x432 with 1 Axes>"
      ]
     },
     "metadata": {
      "needs_background": "light"
     },
     "output_type": "display_data"
    }
   ],
   "source": [
    "model = k_means(1000, 3)\n",
    "model.plot_data()\n",
    "model.fit()\n",
    "model.plot_data()"
   ]
  },
  {
   "cell_type": "markdown",
   "metadata": {},
   "source": [
    "### 3.2. Implementation using SciKit-Learn\n",
    "\n",
    "Now that we know how it works, we can apply the KNN model offered by the SciKit-Learn library onto the Fashion MNIST dataset."
   ]
  },
  {
   "cell_type": "code",
   "execution_count": 11,
   "metadata": {},
   "outputs": [],
   "source": [
    "hyperparameters = {\"n\":range(8,15),\n",
    "                   \"init\":[\"k-means++\",\"random\"],\n",
    "                   \"algorithm\":[\"full\", \"elkan\"]}"
   ]
  },
  {
   "cell_type": "code",
   "execution_count": 12,
   "metadata": {},
   "outputs": [],
   "source": [
    "grid_search = GridSearch(\"kmeans\", hyperparameters, n_jobs=-1)"
   ]
  },
  {
   "cell_type": "code",
   "execution_count": null,
   "metadata": {
    "scrolled": false
   },
   "outputs": [
    {
     "name": "stdout",
     "output_type": "stream",
     "text": [
      "KMeans #1 trained with 8 components, k-means++ initialization and full algorithm, yielding homogeneity, v_measure and silhouette scores of 0.4745128989093765, 0.5021663615207347 and 0.15434901811491045 resp.\n",
      "KMeans #2 trained with 8 components, k-means++ initialization and elkan algorithm, yielding homogeneity, v_measure and silhouette scores of 0.4745128989093765, 0.5021663615207347 and 0.15434901811491045 resp.\n",
      "KMeans #3 trained with 8 components, random initialization and full algorithm, yielding homogeneity, v_measure and silhouette scores of 0.4909088947714878, 0.5289507374428093 and 0.17118687018602335 resp.\n",
      "KMeans #4 trained with 8 components, random initialization and elkan algorithm, yielding homogeneity, v_measure and silhouette scores of 0.4909088947714878, 0.5289507374428093 and 0.17118687018602335 resp.\n",
      "KMeans #5 trained with 9 components, k-means++ initialization and full algorithm, yielding homogeneity, v_measure and silhouette scores of 0.4771908656895545, 0.49534918865144256 and 0.15171659809719426 resp.\n",
      "KMeans #6 trained with 9 components, k-means++ initialization and elkan algorithm, yielding homogeneity, v_measure and silhouette scores of 0.4771908656895545, 0.49534918865144256 and 0.15171659809719426 resp.\n",
      "KMeans #7 trained with 9 components, random initialization and full algorithm, yielding homogeneity, v_measure and silhouette scores of 0.49464672029722273, 0.5153810247393733 and 0.15712554764055028 resp.\n",
      "KMeans #8 trained with 9 components, random initialization and elkan algorithm, yielding homogeneity, v_measure and silhouette scores of 0.49464672029722273, 0.5153810247393733 and 0.15712554764055028 resp.\n"
     ]
    }
   ],
   "source": [
    "results = grid_search.fit(x_train_processed, y_train)"
   ]
  },
  {
   "cell_type": "markdown",
   "metadata": {},
   "source": []
  },
  {
   "cell_type": "code",
   "execution_count": null,
   "metadata": {},
   "outputs": [],
   "source": [
    "print(\"Predicting fashion items on the test set\")\n",
    "y_pred = grid_search.predict(2, x_test_processed, y_test)"
   ]
  },
  {
   "cell_type": "code",
   "execution_count": null,
   "metadata": {
    "scrolled": false
   },
   "outputs": [],
   "source": [
    "label_number = len(np.unique(y_pred))\n",
    "\n",
    "#2D matrix  for an array of indexes of the given label\n",
    "cluster_index= [[] for i in range(label_number)]\n",
    "for i, label in enumerate(y_pred):\n",
    "    for n in range(label_number):\n",
    "        if label == n: cluster_index[n].append(i)\n",
    "        else: continue\n",
    "\n",
    "for j, _ in enumerate(labelNames):\n",
    "    plt.figure(figsize=(3,3));\n",
    "    clust = j #enter label number to visualise T-Shirt/Top\n",
    "    num = 10\n",
    "    for i in range(1,num):\n",
    "        plt.subplot(1, 1, i) #(Number of rows, Number of column per row, item number)\n",
    "        plt.imshow(x_test_processed[cluster_index[clust][i+20]].reshape(x_test.shape[1], x_test.shape[2]), cmap = plt.cm.binary);\n",
    "\n",
    "    plt.show()"
   ]
  },
  {
   "cell_type": "markdown",
   "metadata": {},
   "source": [
    "## 4. Implementation of GMM\n",
    "\n",
    "### 4.1. Simple Implementation From Scratch (without gridsearch)"
   ]
  },
  {
   "cell_type": "code",
   "execution_count": null,
   "metadata": {},
   "outputs": [],
   "source": []
  },
  {
   "cell_type": "markdown",
   "metadata": {},
   "source": [
    "### 4.2. Implementation using SciKit-Learn"
   ]
  },
  {
   "cell_type": "code",
   "execution_count": null,
   "metadata": {},
   "outputs": [],
   "source": [
    "hyperparameters = {\"n_components\":range(10,21),\n",
    "                   \"covariance_type\":[\"full\", \"tied\", \"diag\", \"spherical\"]}\n",
    "\n",
    "grid_search = GridSearch(\"gmm\", hyperparameters, n_jobs=-1)\n",
    "results = grid_search.fit(x_train_processed, y_train)\n",
    "print(\"Best estimator found by grid search:\")\n",
    "print(grid_search.best_estimator_)\n",
    "\n",
    "print(\"Best score found by grid search:\")\n",
    "print(grid_search.best_score_)\n",
    "\n",
    "print(\"Best parameters found by grid search:\")\n",
    "print(grid_search.best_params_)\n",
    "print(\"Predicting fashion items on the test set\")\n",
    "y_pred = grid_search.predict(x_test_processed)"
   ]
  },
  {
   "cell_type": "code",
   "execution_count": null,
   "metadata": {},
   "outputs": [],
   "source": [
    "grid_search = GridSearch(\"gmm\", hyperparameters, n_jobs=-1)"
   ]
  },
  {
   "cell_type": "code",
   "execution_count": null,
   "metadata": {},
   "outputs": [],
   "source": [
    "results = grid_search.fit(x_train_processed, y_train)"
   ]
  },
  {
   "cell_type": "code",
   "execution_count": null,
   "metadata": {},
   "outputs": [],
   "source": [
    "print(\"Best estimator found by grid search:\")\n",
    "print(grid_search.best_estimator_)\n",
    "\n",
    "print(\"Best score found by grid search:\")\n",
    "print(grid_search.best_score_)\n",
    "\n",
    "print(\"Best parameters found by grid search:\")\n",
    "print(grid_search.best_params_)"
   ]
  },
  {
   "cell_type": "code",
   "execution_count": null,
   "metadata": {},
   "outputs": [],
   "source": [
    "print(\"Predicting fashion items on the test set\")\n",
    "y_pred = grid_search.predict(x_test_processed)"
   ]
  },
  {
   "cell_type": "code",
   "execution_count": null,
   "metadata": {
    "scrolled": false
   },
   "outputs": [],
   "source": [
    "label_number = 10\n",
    "\n",
    "#2D matrix  for an array of indexes of the given label\n",
    "cluster_index= [[] for i in range(label_number)]\n",
    "for i, label in enumerate(y_pred):\n",
    "    for n in range(label_number):\n",
    "        if label == n: cluster_index[n].append(i)\n",
    "        else: continue\n",
    "\n",
    "for j, _ in enumerate(labelNames):\n",
    "    plt.figure(figsize=(6,6));\n",
    "    clust = j #enter label number to visualise T-Shirt/Top\n",
    "    num = 10\n",
    "    for i in range(1,num):\n",
    "        plt.subplot(3, 3, i) #(Number of rows, Number of column per row, item number)\n",
    "        plt.imshow(x_test_processed[cluster_index[clust][i+20]].reshape(x_test.shape[1], x_test.shape[2]), cmap = plt.cm.binary);\n",
    "\n",
    "    plt.show()"
   ]
  },
  {
   "cell_type": "markdown",
   "metadata": {},
   "source": [
    "## 5. Comparing the best results of both KMeans and GMM"
   ]
  },
  {
   "cell_type": "code",
   "execution_count": null,
   "metadata": {},
   "outputs": [],
   "source": []
  },
  {
   "cell_type": "markdown",
   "metadata": {},
   "source": [
    "## 6. Exploring the parameters of GMM, i.e. Implementing Efficient Greedy Learning\n",
    "\n",
    "Based on ``Verbeek, Jakob & Vlassis, Nikos & Krose, B.. (2003). Efficient Greedy Learning of Gaussian Mixture Models. Neural computation. 15. 469-85. 10.1162/089976603762553004``."
   ]
  },
  {
   "cell_type": "code",
   "execution_count": null,
   "metadata": {},
   "outputs": [],
   "source": []
  },
  {
   "cell_type": "markdown",
   "metadata": {},
   "source": [
    "## 7. References used for this exercise\n",
    "\n",
    "- https://www.researchgate.net/publication/10896453_Efficient_Greedy_Learning_of_Gaussian_Mixture_Models\n",
    "- https://www.kaggle.com/c/ttic-31020-hw5-fmnist-gmm/leaderboard (leaderboard for GMM classification of Fashion-MNIST)\n",
    "- https://scikit-learn.org/stable/modules/generated/sklearn.mixture.GaussianMixture.html\n",
    "- https://scikit-learn.org/stable/modules/generated/sklearn.metrics.v_measure_score.html\n",
    "- https://scikit-learn.org/stable/modules/generated/sklearn.metrics.silhouette_score.html\n",
    "- https://scikit-learn.org/stable/modules/generated/sklearn.metrics.homogeneity_score.html\n",
    "- https://scikit-learn.org/stable/modules/generated/sklearn.cluster.KMeans.html"
   ]
  },
  {
   "cell_type": "code",
   "execution_count": null,
   "metadata": {},
   "outputs": [],
   "source": []
  }
 ],
 "metadata": {
  "kernelspec": {
   "display_name": "Python 3",
   "language": "python",
   "name": "python3"
  },
  "language_info": {
   "codemirror_mode": {
    "name": "ipython",
    "version": 3
   },
   "file_extension": ".py",
   "mimetype": "text/x-python",
   "name": "python",
   "nbconvert_exporter": "python",
   "pygments_lexer": "ipython3",
   "version": "3.8.3"
  }
 },
 "nbformat": 4,
 "nbformat_minor": 4
}
