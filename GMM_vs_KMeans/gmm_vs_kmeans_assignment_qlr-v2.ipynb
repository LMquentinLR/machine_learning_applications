{
 "cells": [
  {
   "cell_type": "markdown",
   "metadata": {},
   "source": [
    "# Gaussian Mixture Model vs. KMeans\n",
    "\n",
    "<hr>\n",
    "\n",
    "## 0. Introduction\n",
    "\n",
    "### 0.1 Task Description\n",
    "\n",
    "**Clustering** is abour grouping similar objects together. It is a type of **unsupervised learning**. Unsupervised learning is the generic application of machine learning to bunch data together based on criteria of similarities. Unsupervised learning algorithm will work to partition data into smaller group of similar objects while trying to maximize the difference between other groups.\n",
    "\n",
    "KMeans and Gaussian Mixture Models are example of clustering algorithms. The goal of this following document is to compare the application of the KMeans and GMM algorithms on the Fashion-MNIST dataset. Afterward, we will explore the impacts of changing the GMM's parameters.\n",
    "\n",
    "### 0.2 Notebook Content\n",
    "\n",
    "- **0. Introduction**\n",
    "    - Task Description\n",
    "    - Table of Content\n",
    "    - Importing Modules\n",
    "    \n",
    "    \n",
    "- **1. Importing the Dataset**\n",
    "    - Importing\n",
    "    - Data Pre-Processing\n",
    "\n",
    "\n",
    "- **2. Implementation of KMeans**\n",
    "    - Simple Implementation From Scratch\n",
    "    - Implementation using SciKit-Learn\n",
    "    - Observations\n",
    "    \n",
    "    \n",
    "- **3. Implementation of GMM**\n",
    "    - Simple Implementation From Scratch\n",
    "    - Implementation using SciKit-Learn\n",
    "    - Observations\n",
    "    \n",
    "    \n",
    "- **4. Comparing the best results of both KMeans and GMM**\n",
    "    - 5.1. Comparisons\n",
    "    - 5.2. Other Explorations\n",
    "    \n",
    "\n",
    "- **5. Exploring the parameters of GMM, i.e. Implementing Efficient Greedy Learning**\n",
    "\n",
    "\n",
    "- **6. References**"
   ]
  },
  {
   "cell_type": "markdown",
   "metadata": {},
   "source": [
    "### 0.3 Importing Modules"
   ]
  },
  {
   "cell_type": "code",
   "execution_count": 1,
   "metadata": {},
   "outputs": [],
   "source": [
    "from keras.datasets import fashion_mnist\n",
    "\n",
    "from itertools import cycle\n",
    "import math\n",
    "import matplotlib.pyplot as plt\n",
    "import numpy as np\n",
    "import pandas as pd\n",
    "import random as rd\n",
    "\n",
    "from sklearn.cluster import KMeans\n",
    "from sklearn.datasets import make_blobs\n",
    "from sklearn import decomposition\n",
    "from sklearn.metrics import homogeneity_score\n",
    "from sklearn.metrics import silhouette_score\n",
    "from sklearn.preprocessing import StandardScaler\n",
    "from sklearn.mixture import GaussianMixture\n",
    "\n",
    "import warnings\n",
    "warnings.filterwarnings('ignore')\n",
    "warnings.simplefilter('ignore')"
   ]
  },
  {
   "cell_type": "markdown",
   "metadata": {},
   "source": [
    "## 1. Importing the dataset: Fashion-MNIST\n",
    "\n",
    "### 1.1. Importing\n",
    "\n",
    "Our first step is to import our dataset: [Fashion-MNIST](https://keras.io/api/datasets/fashion_mnist/)."
   ]
  },
  {
   "cell_type": "code",
   "execution_count": 2,
   "metadata": {},
   "outputs": [
    {
     "name": "stdout",
     "output_type": "stream",
     "text": [
      "Shape of x_train_origin: (60000, 28, 28)\n",
      "Shape of y_train: (60000,)\n",
      "Shape of x_test_origin: (10000, 28, 28)\n",
      "Shape of y_test: (10000,)\n"
     ]
    }
   ],
   "source": [
    "(x_train_origin, y_train), (x_test_origin, y_test) = fashion_mnist.load_data()\n",
    "\n",
    "labelNames = [\"T-shirt/Top\", \"Trouser\", \"Pullover\", \"Dress\", \"Coat\", \"Sandal\", \"Shirt\", \"Sneaker\", \"Bag\", \"Ankle boot\"]\n",
    "\n",
    "print(f\"Shape of x_train_origin: {x_train_origin.shape}\")\n",
    "print(f\"Shape of y_train: {y_train.shape}\")\n",
    "print(f\"Shape of x_test_origin: {x_test_origin.shape}\")\n",
    "print(f\"Shape of y_test: {y_test.shape}\")"
   ]
  },
  {
   "cell_type": "code",
   "execution_count": 3,
   "metadata": {
    "scrolled": false
   },
   "outputs": [
    {
     "data": {
      "image/png": "[encoded data removed]",
      "text/plain": [
       "<Figure size 360x360 with 9 Axes>"
      ]
     },
     "metadata": {},
     "output_type": "display_data"
    }
   ],
   "source": [
    "# Sample images\n",
    "\n",
    "length = 3\n",
    "plt.figure(figsize=(5, 5)) \n",
    "for i in range(length * length):\n",
    "    temp = rd.randint(0, len(x_train_origin)+1)\n",
    "    image = x_train_origin[temp] \n",
    "    plt.subplot(length, length, i+1)       \n",
    "    plt.imshow(image, cmap='gray')  \n",
    "    plt.xticks([])\n",
    "    plt.yticks([])\n",
    "    plt.xlabel(labelNames[y_train[temp]])\n",
    "    plt.tight_layout()   \n",
    "plt.show()"
   ]
  },
  {
   "cell_type": "markdown",
   "metadata": {},
   "source": [
    "### 1.2. Data Preprocessing\n",
    "\n",
    "Data Pre-Processing is an important first step towards machine learning. Below, we will go through three different pre-processing steps.\n",
    "\n",
    "**Normalization**: Each item in the dataset is a grayscale picture (i.e. 1 channel instead of 3 for RGB) where each pixel is a value lying between $0$ and $255$. We need to rescale each image to the [0,1] range, i.e., normalize our images. This rescaling is done by dividing each pixel value by 255."
   ]
  },
  {
   "cell_type": "code",
   "execution_count": 4,
   "metadata": {},
   "outputs": [
    {
     "name": "stdout",
     "output_type": "stream",
     "text": [
      "One pixel before normalization: 204\n",
      "One pixel after normalization: 0.8\n"
     ]
    }
   ],
   "source": [
    "# Before\n",
    "print(f\"One pixel before normalization: {x_train_origin[0][5][15]}\")\n",
    "\n",
    "# Normalization\n",
    "x_train = x_train_origin / 255.\n",
    "x_test = x_test_origin / 255.\n",
    "\n",
    "# After\n",
    "print(f\"One pixel after normalization: {x_train[0][5][15]}\")"
   ]
  },
  {
   "cell_type": "markdown",
   "metadata": {},
   "source": [
    "**Flattening**: Since each image is a 2d picture of 28 pixels by 28 pixels, we need to reshape our data so it can be fed in a model. To do so, we reshape our image into a single dimension of size 28\\*28, i.e. 784."
   ]
  },
  {
   "cell_type": "code",
   "execution_count": 5,
   "metadata": {},
   "outputs": [
    {
     "name": "stdout",
     "output_type": "stream",
     "text": [
      "Shape of x_train: (60000, 784)\n",
      "Shape of x_test: (10000, 784)\n"
     ]
    }
   ],
   "source": [
    "x_train = x_train.reshape(len(x_train), 784)\n",
    "x_test = x_test.reshape(len(x_test), 784)\n",
    "\n",
    "print(f\"Shape of x_train: {x_train.shape}\")\n",
    "print(f\"Shape of x_test: {x_test.shape}\")"
   ]
  },
  {
   "cell_type": "markdown",
   "metadata": {},
   "source": [
    "**Feature Extraction**: PCA is used for dimensionality reduction to visualize high dimensional data. We do dimensionality reduction to convert the high dimensional dataset into smaller-dimensional one.\n",
    "\n",
    "The goal here is to reduce the dimensionality of our dataset to accelerate our training. To do so, we compute the cumulative explained variance with a number of components from 0 to 784."
   ]
  },
  {
   "cell_type": "code",
   "execution_count": 6,
   "metadata": {},
   "outputs": [],
   "source": [
    "pca = decomposition.PCA()\n",
    "\n",
    "x_train = StandardScaler().fit_transform(x_train)\n",
    "x_test = StandardScaler().fit_transform(x_test)\n",
    "\n",
    "pca.n_components = 784\n",
    "x_train = pca.fit_transform(x_train)\n",
    "x_test = pca.fit_transform(x_test)\n",
    "\n",
    "percentage_var_explained = pca.explained_variance_ / np.sum(pca.explained_variance_)\n",
    "cum_var_explained = np.cumsum(percentage_var_explained)"
   ]
  },
  {
   "cell_type": "code",
   "execution_count": 7,
   "metadata": {},
   "outputs": [
    {
     "data": {
      "image/png": "[encoded data removed]",
      "text/plain": [
       "<Figure size 864x288 with 1 Axes>"
      ]
     },
     "metadata": {
      "needs_background": "light"
     },
     "output_type": "display_data"
    }
   ],
   "source": [
    "# Plot the PCA spectrum\n",
    "plt.figure(1, figsize=(12, 4))\n",
    "plt.clf()\n",
    "plt.plot(cum_var_explained, linewidth=2)\n",
    "plt.axis(\"tight\")\n",
    "plt.grid()\n",
    "plt.xlabel(\"n_components\")\n",
    "plt.ylabel(\"Cumulative_explained_variance\")\n",
    "plt.show()"
   ]
  },
  {
   "cell_type": "markdown",
   "metadata": {},
   "source": [
    "We find that 90%+ of the variance is explained once we reach 100+ components. As such we settled on a dimensionality reduction to 121 components, which provides us an easy 11\\*11 representation."
   ]
  },
  {
   "cell_type": "code",
   "execution_count": 8,
   "metadata": {},
   "outputs": [
    {
     "name": "stdout",
     "output_type": "stream",
     "text": [
      "Shape of x_train_processed: (60000, 121)\n",
      "Shape of x_test_processed: (10000, 121)\n"
     ]
    }
   ],
   "source": [
    "pca = decomposition.PCA(n_components=121)\n",
    "x_train_processed = pca.fit_transform(x_train)\n",
    "x_test_processed = pca.fit_transform(x_test)\n",
    "\n",
    "print(f\"Shape of x_train_processed: {x_train_processed.shape}\")\n",
    "print(f\"Shape of x_test_processed: {x_test_processed.shape}\")"
   ]
  },
  {
   "cell_type": "code",
   "execution_count": 9,
   "metadata": {},
   "outputs": [
    {
     "data": {
      "image/png": "[encoded data removed]",
      "text/plain": [
       "<Figure size 432x288 with 2 Axes>"
      ]
     },
     "metadata": {
      "needs_background": "light"
     },
     "output_type": "display_data"
    }
   ],
   "source": [
    "for i in rd.sample(range(60000),1):\n",
    "    i1 = x_train_origin[i] \n",
    "    i2 = x_train_processed[i].reshape(11,11)\n",
    "    plt.subplot(length, length, 1)       \n",
    "    plt.imshow(i1, cmap='gray')  \n",
    "    plt.xlabel(labelNames[y_train[i]])  \n",
    "    plt.subplot(length, length, 2)       \n",
    "    plt.imshow(i2, cmap='gray')  \n",
    "    plt.xlabel(labelNames[y_train[i]])\n",
    "    plt.tight_layout()   \n",
    "    plt.show()"
   ]
  },
  {
   "cell_type": "markdown",
   "metadata": {},
   "source": [
    "## 3. Implementation of KMeans\n",
    "\n",
    "KMeans is an **unsupervised clustering algorithm** that tries to cluster the elements of a given dataset into a *k* number of clusters. It proceeds as follow:\n",
    "\n",
    "```\n",
    "1. Selects k random points from the dataset as starting cluster centers\n",
    "2. For all data point in the dataset:\n",
    "    2.1 calculates the distance (such as the euclidian distance (1)) between the point and the clusters\n",
    "    2.2 assigns the point to the closest center (2)\n",
    "3. Update each cluster center by taking the average of the points within the cluster\n",
    "4. Repeat steps 2 and 3 until convergence, i.e., when the centers do not change\n",
    "```\n",
    "$$given\\,\\,x_i \\in \\mathbb{R}^m\\,\\,\\forall i, k \\in [1, ..., n]$$\n",
    "\n",
    "$$d(x_i,center_k)=\\sqrt{\\underset{j=1}{\\overset{m}{\\sum}}(x_{i,j}-center_{k,j})^2}\\,\\,\\forall i, k \\in [1, ..., n] \\quad (1)$$\n",
    "\n",
    "$$cluster(x_i) = argmin\\,\\,d(x_i,center_k)\\,\\,\\forall i, k \\in [1, ..., n] \\quad (2)$$\n",
    "\n",
    "### 3.1. Simple Implementation From Scratch\n",
    "\n",
    "First of all, let's build our own KNN to see how it works. Using the ``make_blobs`` function from the SciKit-Learn library we implement a KMeans using euclidian distance metrics."
   ]
  },
  {
   "cell_type": "code",
   "execution_count": 10,
   "metadata": {},
   "outputs": [],
   "source": [
    "def generate_dataset(number_of_points):\n",
    "    \"\"\"\n",
    "    Generates a dataset of 2d coordinates (x, y), with x and y random values between 0 and 99.\n",
    "    The set is generated with a random number of centers between 2 and 9.\n",
    "    \"\"\"\n",
    "    X, _ = make_blobs(n_samples=number_of_points, \n",
    "                      centers=rd.randint(2,10), \n",
    "                      n_features=2, \n",
    "                      random_state=0)\n",
    "    return X\n",
    "\n",
    "def compare_dict(dict1, dict2):\n",
    "    \"\"\"\n",
    "    Checks if two dictionary are identical.\n",
    "    \"\"\"\n",
    "    for key in dict1.keys():\n",
    "        if not np.array_equal(dict1[key], dict2[key]): return False\n",
    "    return True\n",
    "\n",
    "def euclidian_distance(p1, p2):\n",
    "    \"\"\"\n",
    "    Calculates the euclidian distance between two points in the R² space.\n",
    "    \"\"\"\n",
    "    distance = 0\n",
    "    for idx, item in enumerate(p1): \n",
    "        distance += (item - p2[idx]) ** 2\n",
    "    return math.sqrt(distance)"
   ]
  },
  {
   "cell_type": "code",
   "execution_count": 11,
   "metadata": {},
   "outputs": [],
   "source": [
    "class k_means():\n",
    "    def __init__(self, nb_of_data_points, k=2):\n",
    "        \"\"\"\n",
    "        Initializes the k_means class.\n",
    "        \"\"\"\n",
    "        self.data = generate_dataset(nb_of_data_points)\n",
    "        self.k = k\n",
    "        self.iterated = 0\n",
    "        self.colors = cycle([\"g\",\"r\",\"b\",\"c\",\"m\",\"y\"])\n",
    "        \n",
    "        # Generates an empty dictionary to store each step's centroids\n",
    "        self.model_centroids = {}\n",
    "        \n",
    "        # Generates an empty dictionary to store each step's classification\n",
    "        self.model_classifications = {}\n",
    "    \n",
    "    \n",
    "    def fit(self, max_iterations=100):\n",
    "        \"\"\"\n",
    "        Fits the model.\n",
    "        \"\"\"\n",
    "        self.iterated = 0\n",
    "        \n",
    "        # Select the initial k centroids\n",
    "        centroids = rd.sample(list(self.data), 2)\n",
    "        \n",
    "        # Iterates to fit the model\n",
    "        for iteration in range(max_iterations):\n",
    "            print(f\"Epoch {iteration}\")\n",
    "            \n",
    "            # Generates an empty dictionary to store the step's classification\n",
    "            step_classification = {}\n",
    "            for k in range(self.k): step_classification[k] = []\n",
    "            \n",
    "            # Calculates the euclidian distance between each data points and each centroids\n",
    "            # Records the points in the classification corresponding to its nearest centroid\n",
    "            for point in self.data:\n",
    "                distances = list(map(lambda x: euclidian_distance(point, x), centroids))\n",
    "                argmin = min(range(len(distances)), key=distances.__getitem__)\n",
    "                step_classification[argmin].append(point)\n",
    "            \n",
    "            # Records the state of the model after the iteration\n",
    "            self.model_centroids[iteration] = centroids\n",
    "            self.model_classifications[iteration] = step_classification\n",
    "            \n",
    "            # If no change has been identified between this iteration and the last, the model will stop.\n",
    "            if len(self.model_classifications)>1:\n",
    "                if compare_dict(self.model_classifications[iteration],\n",
    "                                self.model_classifications[iteration-1]):\n",
    "                    self.iterated = iteration\n",
    "                    print(f\"No significant change has been achieved during epoch {self.iterated}. \"+\\\n",
    "                          \"Model is considered fitted.\")\n",
    "                    break\n",
    "            \n",
    "            # Updates the centroids\n",
    "            centroids = []\n",
    "            for classification in step_classification.values():\n",
    "                if classification == []: centroids.append(np.zeros(3))\n",
    "                else: centroids.append(np.mean(classification, axis=0))\n",
    "       \n",
    "    \n",
    "    def plot_data(self):\n",
    "        \"\"\"\n",
    "        Plots the distribution of the data\n",
    "        \"\"\"\n",
    "        # Declares the plot\n",
    "        plt.figure(figsize=(6,6))\n",
    "\n",
    "        # Plots the data without colors if the dataset was not iterated over.\n",
    "        if self.model_centroids == {} or self.iterated == 0:\n",
    "            plt.scatter(self.data[:,0],self.data[:,1])\n",
    "\n",
    "        else:\n",
    "            # Plots the centroids first\n",
    "            for centroid in self.model_centroids[self.iterated]:\n",
    "                plt.scatter(centroid[0], centroid[1], \n",
    "                            marker=\"o\", color=\"k\", s=50, linewidths=5)\n",
    "\n",
    "            # plots the data points\n",
    "            for classification in self.model_classifications[self.iterated].values():\n",
    "                color = next(self.colors)\n",
    "                for feature in classification:\n",
    "                    plt.scatter(feature[0], feature[1], \n",
    "                                marker='x', color=color, s=20, linewidths=2)\n",
    "        plt.show()"
   ]
  },
  {
   "cell_type": "code",
   "execution_count": 12,
   "metadata": {},
   "outputs": [
    {
     "data": {
      "image/png": "[encoded data removed]",
      "text/plain": [
       "<Figure size 432x432 with 1 Axes>"
      ]
     },
     "metadata": {
      "needs_background": "light"
     },
     "output_type": "display_data"
    },
    {
     "name": "stdout",
     "output_type": "stream",
     "text": [
      "Epoch 0\n",
      "Epoch 1\n",
      "Epoch 2\n",
      "Epoch 3\n",
      "Epoch 4\n",
      "Epoch 5\n",
      "Epoch 6\n",
      "Epoch 7\n",
      "Epoch 8\n",
      "No significant change has been achieved during epoch 8. Model is considered fitted.\n"
     ]
    },
    {
     "data": {
      "image/png": "[encoded data removed]",
      "text/plain": [
       "<Figure size 432x432 with 1 Axes>"
      ]
     },
     "metadata": {
      "needs_background": "light"
     },
     "output_type": "display_data"
    }
   ],
   "source": [
    "model = k_means(1000, 3)\n",
    "model.plot_data()\n",
    "model.fit()\n",
    "model.plot_data()"
   ]
  },
  {
   "cell_type": "markdown",
   "metadata": {},
   "source": [
    "### 3.2. Implementation using SciKit-Learn\n",
    "\n",
    "Now that we know how it works, we can apply the KNN model offered by the SciKit-Learn library onto the Fashion MNIST dataset."
   ]
  },
  {
   "cell_type": "code",
   "execution_count": 13,
   "metadata": {},
   "outputs": [],
   "source": [
    "n_clusters = 10 # for the number of classes in Fashion-MNIST\n",
    "init = \"k-means++\" # choose n_clusters observations (rows) at random from data for the initial centroids.\n",
    "n_init=50\n",
    "max_iter = 100\n",
    "verbose = 0\n",
    "algorithm = \"elkan\" # “elkan” is more efficient on data with well-defined clusters"
   ]
  },
  {
   "cell_type": "code",
   "execution_count": null,
   "metadata": {
    "scrolled": false
   },
   "outputs": [],
   "source": [
    "model = KMeans(n_clusters=n_clusters, \n",
    "               init=init,\n",
    "               n_init=n_init,\n",
    "               max_iter=max_iter, \n",
    "               verbose=verbose, \n",
    "               algorithm=algorithm, \n",
    "               random_state=0).fit(x_train_processed)"
   ]
  },
  {
   "cell_type": "code",
   "execution_count": null,
   "metadata": {},
   "outputs": [],
   "source": [
    "label_predictions = model.predict(x_test_processed)"
   ]
  },
  {
   "cell_type": "code",
   "execution_count": null,
   "metadata": {},
   "outputs": [],
   "source": [
    "print(homogeneity_score(y_test, label_predictions))"
   ]
  },
  {
   "cell_type": "markdown",
   "metadata": {},
   "source": [
    "### 3.3. Observations\n",
    "\n",
    "The two cells below visualizes the repartition of items between the ten buckets created by the KMeans model above."
   ]
  },
  {
   "cell_type": "code",
   "execution_count": null,
   "metadata": {
    "scrolled": false
   },
   "outputs": [],
   "source": [
    "label_number = 10\n",
    "\n",
    "#2D matrix  for an array of indexes of the given label\n",
    "cluster_index= [[] for i in range(label_number)]\n",
    "for i, label in enumerate(label_predictions):\n",
    "    for n in range(label_number):\n",
    "        if label == n: cluster_index[n].append(i)\n",
    "        else: continue\n",
    "\n",
    "for j, _ in enumerate(labelNames):\n",
    "    plt.figure(figsize=(6,6));\n",
    "    clust = j #enter label number to visualise T-Shirt/Top\n",
    "    num = 10\n",
    "    for i in range(1,4):\n",
    "        plt.subplot(3, 3, i) #(Number of rows, Number of column per row, item number)\n",
    "        plt.imshow(x_test_origin[cluster_index[clust][i+20]], cmap = plt.cm.binary);\n",
    "\n",
    "plt.show()"
   ]
  },
  {
   "cell_type": "code",
   "execution_count": null,
   "metadata": {
    "scrolled": false
   },
   "outputs": [],
   "source": [
    "clusters={}\n",
    "for i in range(10):\n",
    "    clusters[i]=[0]*10\n",
    "\n",
    "for index, item in enumerate(label_predictions):\n",
    "    clusters[item][y_test[index]] += 1\n",
    "\n",
    "for i in range(len(clusters)):\n",
    "    fig = plt.figure(figsize=(10,3))\n",
    "    plt.bar(labelNames, clusters[i], color=\"purple\", width=0.4)\n",
    "    plt.title(f\"Amount of items of a specific label assigned to cluster {i}\")\n",
    "    plt.show()"
   ]
  },
  {
   "cell_type": "code",
   "execution_count": null,
   "metadata": {},
   "outputs": [],
   "source": [
    "pca = decomposition.PCA(n_components = 3)\n",
    "x_test_visualization = StandardScaler().fit_transform(x_test_processed)\n",
    "x_test_visualization = pca.fit_transform(x_test_visualization)"
   ]
  },
  {
   "cell_type": "code",
   "execution_count": null,
   "metadata": {
    "scrolled": false
   },
   "outputs": [],
   "source": [
    "colors = [\"blue\",\"red\",\"green\",\"pink\",\"purple\",\"cyan\",\"yellow\",\"orange\",\"black\",\"brown\"]\n",
    "\n",
    "fig = plt.figure(figsize=(12,8))\n",
    "ax = fig.add_subplot(111, projection='3d')\n",
    "for index, item in enumerate(x_test_visualization[:200]):\n",
    "    ax.scatter(item[0], item[1], item[2], marker=\"x\", color = colors[label_predictions[index]])\n",
    "\n",
    "plt.show()"
   ]
  },
  {
   "cell_type": "markdown",
   "metadata": {},
   "source": [
    "<hr> \n",
    "<span style=\"color:green\">The above visualizations highlight a few key behaviors:\n",
    "    \n",
    "> 1. KMeans is **able to distinguish bags** (clusters 1 and 5), **ankle boots** (cluster 0 and 2), **sandals** and **sneakers** (cluster 4 and 8) from the rest of the dataset\n",
    ">\n",
    "> 2. KMeans **struggles identifying trousers from dresses** (cluster 3)\n",
    ">\n",
    "> 3. KMeans **struggles identifying all top clothes from each other** (clusters 6, 7, and 9(\n",
    "\n",
    "We obtained a **homogeneity metric of c. 0.49**. As per sklearn's [documentation](https://scikit-learn.org/stable/modules/generated/sklearn.metrics.homogeneity_score.html): \"clustering result satisfies homogeneity if all of its clusters contain only data points which are members of a single class.\" A score of 1 implies a perfect labeling with a score of 0 being the minimum."
   ]
  },
  {
   "cell_type": "markdown",
   "metadata": {},
   "source": [
    "## 4. Implementation of GMM\n",
    "\n",
    "Gaussian Mixture Models, or GMM, are a type of machine learning algorithms that aim at extracting normally distributed subpopulations from an overall population. Like KMeans, GMM are a type of unsupervised machine learning.\n",
    "\n",
    "A GMM is parametrized by two types of values: the **mixture component weights**, and the **component means and variances**.\n",
    "\n",
    "Given $k$ the number of component $C_k$ of a GMM, each component has a mean $\\mu_k$ and a variance $\\sigma^2_k$ (for the univariate case, otherwise $\\mu$ and $\\sigma$ are vectors). The mixture component wieghts are defined as $\\phi_k$ for a component $C_k$, with the constraint that $\\overset{K}{\\underset{i=1}{\\sum}}\\phi_i=1$ so that the total proability distribution normalizes to 1.\n",
    "\n",
    "#### One-Dimensional Model\n",
    "\n",
    "$$p(x) = \\underset{i=1}{\\overset{K}{\\sum}}\\phi_i.\\mathcal{N}(x|\\mu_i, \\sigma^2_i)$$\n",
    "\n",
    "$$\\mathcal{N}(x|\\mu_i, \\sigma^2_i) = \\frac{1}{\\sigma_i.\\sqrt{2.\\pi}}.exp(\\frac{-(x-\\mu_i)^2}{2.\\sigma_i^2})$$\n",
    "\n",
    "$$\\underset{i=1}{\\overset{K}{\\sum}}\\phi_i=1$$\n",
    "\n",
    "#### Multi-Dimensional Model\n",
    "\n",
    "$$p(x) = \\underset{i=1}{\\overset{K}{\\sum}}\\phi_i.\\mathcal{N}(\\overset{\\rightarrow}{x}|\\overset{\\rightarrow}{\\mu_i}, \\sum_i)$$\n",
    "\n",
    "$$\\mathcal{N}(\\overset{\\rightarrow}{x}|\\overset{\\rightarrow}{\\mu_i}, \\sum_i) = \\frac{1}{\\sqrt{(2.\\pi)^K.|\\sum_i|}}.exp(-\\frac{1}{2}.(\\overset{\\rightarrow}{x}-\\overset{\\rightarrow}{\\mu_i})^T).\\sum_i^{-1}.(\\overset{\\rightarrow}{x}-\\overset{\\rightarrow}{\\mu_i}))$$\n",
    "\n",
    "$$\\underset{i=1}{\\overset{K}{\\sum}}\\phi_i=1$$\n",
    "\n",
    "Expectation Maximization or EM is the most common technique to estimate the mixture model's parameter when the number of components $k$ is known. EM is a numerical technique for maximum likelihood estimation. EM is an iterative algorithm and is guaranteed to approach a local maximum or saddle point.\n",
    "\n",
    "#### Expectation Maximization\n",
    "\n",
    "EM proceeds as follow:\n",
    "\n",
    "```\n",
    "1. Random assignment of k samples without replacement from the dataset to k component mean estimates\n",
    "2. All component variance estimates (1)\n",
    "3. Set all component distribution prior estimates to the uniform distribution (2)\n",
    "4. E(xpectation)-Step: Calculation of the probability that each data point x is generated by a component C (3)\n",
    "5. M(aximization)-Step: Maximization of the expectations calculated in the E step with respect to the model parameters. The model parameters are updated (4)\n",
    "6. The steps 1 and 2 are repeated until convergence\n",
    "```\n",
    "\n",
    "$$\\sigma^2_k = \\underset{i=1}{\\overset{N}{\\sum}}(x_i - \\bar{x})^2 \\quad (1)$$\n",
    "\n",
    "$$\\phi_i = \\frac{1}{K} \\quad (2)$$\n",
    "\n",
    "$$\\forall i,k \\quad \\hat{\\gamma}_{i,k}=\\frac{\\hat{\\phi}_k.\\mathcal{N}(x_i|\\hat{\\mu}_k, \\hat{\\sigma}^2_k)}{\\underset{j=1}{\\overset{K}{\\sum}}\\hat{\\phi}_j.\\mathcal{N}(x_i|\\hat{\\mu}_j, \\hat{\\sigma}^2_j)}=p(C_k|x_i,\\hat{\\phi},\\hat{\\mu},\\hat{\\sigma}^2) \\quad (3)$$\n",
    "\n",
    "$$\\forall k \\quad \\hat{\\phi}_k = \\underset{i=1}{\\overset{N}{\\sum}}\\frac{\\hat{\\gamma}_{i,k}}{N} \\quad (4.1)$$\n",
    "\n",
    "$$\\forall k \\quad \\hat{\\mu}_k=\\frac{\\underset{i=1}{\\overset{N}{\\sum}}\\hat{\\gamma}_{i,k}.x_i}{\\underset{i=1}{\\overset{N}{\\sum}}\\hat{\\gamma}_{i,k}} \\quad (4.2)$$\n",
    "\n",
    "$$\\forall k \\quad \\hat{\\sigma}^2_k=\\frac{\\underset{i=1}{\\overset{N}{\\sum}}\\hat{\\gamma}_{i,k}.(x_i-\\hat{\\mu}_k)^2}{\\underset{i=1}{\\overset{N}{\\sum}}\\hat{\\gamma}_{i,k}} \\quad (4.3)$$\n",
    "\n",
    "### 4.1. Simple Implementation From Scratch\n",
    "\n",
    "First of all, let's build our own GMM to see how it works. Using the ``make_blobs`` function from the SciKit-Learn library we implement a GMM."
   ]
  },
  {
   "cell_type": "code",
   "execution_count": null,
   "metadata": {},
   "outputs": [],
   "source": [
    "class GMM():\n",
    "    def __init__(self, nb_of_data_points, k=2):\n",
    "        \"\"\"\n",
    "        Initializes the GMM class.\n",
    "        \"\"\"\n",
    "        self.data = generate_dataset(nb_of_data_points)\n",
    "        self.k = k\n",
    "        self.colors = [\"g\",\"r\",\"b\",\"c\",\"m\",\"y\"]\n",
    "        self.phi = [1/self.k for _ in range(self.k)]\n",
    "        self.cluster_names = list(range(10))\n",
    "        self.clusters = []\n",
    "    \n",
    "    def multivariate_normal(self, X, mean_vector, covariance_matrix):\n",
    "        \"\"\"\n",
    "        Formula of the multivariate normal distribution.\n",
    "        \"\"\"\n",
    "        first_element = ((2*np.pi)**len(X) * np.linalg.det(covariance_matrix))**(-1/2)\n",
    "        #print((X-mean_vector).shape, np.linalg.inv(covariance_matrix).shape, (X-mean_vector).shape)\n",
    "        exponential = np.exp(-1/2*np.dot(np.dot((X-mean_vector), np.linalg.inv(covariance_matrix)).T, (X-mean_vector)))\n",
    "        return first_element * exponential    \n",
    "    \n",
    "    def fit(self, max_iterations=100):\n",
    "        \"\"\"\n",
    "        Fits the model.\n",
    "        \"\"\"\n",
    "        # Splits the data in k subsets\n",
    "        X = np.array_split(self.data, self.k)\n",
    "        \n",
    "        #initializes the computation of the mean vector and the covariance matric\n",
    "        self.mean_vector = [np.mean(x, axis=0) for x in X]\n",
    "        self.covariance_matrices = [np.cov(x.T) for x in X]\n",
    "        del X\n",
    "        \n",
    "        for iteration in range(max_iterations):\n",
    "            if iteration %10 == 0: print(f\"Epoch {iteration}\")\n",
    "            \n",
    "            # E-Step\n",
    "            # Calculates the gammas\n",
    "            self.p = np.zeros((len(self.data), self.k)) #, dtype=object)\n",
    "            # Calculatges the phi matrix\n",
    "            for n in range(len(self.data)):\n",
    "                for k in range(self.k):\n",
    "                    self.p[n][k] = self.phi[k] * self.multivariate_normal(self.data[n], \n",
    "                                                                   self.mean_vector[k],\n",
    "                                                                   self.covariance_matrices[k])\n",
    "                    self.p[n][k] /= sum([\n",
    "                        self.phi[j]*self.multivariate_normal(self.data[n], \n",
    "                                                            self.mean_vector[j], \n",
    "                                                            self.covariance_matrices[j]) \n",
    "                        for j in range(self.k)\n",
    "                    ])\n",
    "            N = np.sum(self.p, axis = 0)            \n",
    "            # M-Step\n",
    "            # initializes the mean vector as a zero vector\n",
    "            self.mean_vector = np.zeros((self.k, len(self.data[0])))\n",
    "            # Updating the mean vector\n",
    "            for k in range(self.k):\n",
    "                for n in range(len(self.data)):\n",
    "                    self.mean_vector[k] += self.p[n][k] * self.data[n]\n",
    "            self.mean_vector = [1/N[k]*self.mean_vector[k] for k in range(self.k)]\n",
    "            # Initializes the list of the covariance matrices\n",
    "            self.covariance_matrixes = [np.zeros((len(self.data[0]), len(self.data[0]))) for k in range(self.k)]\n",
    "            # Updates the covariance matrices\n",
    "            for k in range(self.k):\n",
    "                self.covariance_matrices[k] = np.cov(self.data.T, aweights=(self.p[:,k]), ddof=0)\n",
    "            self.covariance_matrices = [1/N[k]*self.covariance_matrices[k] for k in range(self.k)]\n",
    "            # update the phi list\n",
    "            self.phi = [N[k]/len(self.data) for k in range(self.k)]     \n",
    "    \n",
    "    def predict(self):\n",
    "        \"\"\"\n",
    "        Predicts the data.\n",
    "        \"\"\"\n",
    "        probabilities = []\n",
    "        for n in range(len(self.data)):\n",
    "            probabilities.append([self.multivariate_normal(self.data[n], \n",
    "                                                           self.mean_vector[k], \n",
    "                                                           self.covariance_matrices[k]) \n",
    "                                  for k in range(self.k)])\n",
    "        self.clusters = []\n",
    "        for prob in probabilities:\n",
    "            self.clusters.append(self.cluster_names[prob.index(max(prob))])\n",
    "        return self.clusters\n",
    "        \n",
    "    def plot_data(self):\n",
    "        \"\"\"\n",
    "        Plots the distribution of the data\n",
    "        \"\"\"\n",
    "        # Declares the plot\n",
    "        plt.figure(figsize=(6,6))\n",
    "\n",
    "        # Plots the data without colors if the dataset was not iterated over.\n",
    "        if self.clusters == []:\n",
    "            plt.scatter(self.data[:,0],self.data[:,1])\n",
    "        else:\n",
    "            for index, datum in enumerate(self.data):\n",
    "                plt.scatter(datum[0], datum[1], marker='x', color=self.colors[self.clusters[index]], s=20, linewidths=2)\n",
    "        plt.show()"
   ]
  },
  {
   "cell_type": "code",
   "execution_count": null,
   "metadata": {
    "scrolled": false
   },
   "outputs": [],
   "source": [
    "model = GMM(100, 3)\n",
    "model.plot_data()\n",
    "model.fit()\n",
    "model.predict()\n",
    "model.plot_data()"
   ]
  },
  {
   "cell_type": "markdown",
   "metadata": {},
   "source": [
    "### 4.2. Implementation using SciKit-Learn"
   ]
  },
  {
   "cell_type": "code",
   "execution_count": null,
   "metadata": {},
   "outputs": [],
   "source": [
    "n_components = 10 # for the number of classes in Fashion-MNIST\n",
    "n_init=20\n",
    "max_iter = 100\n",
    "verbose = 0"
   ]
  },
  {
   "cell_type": "code",
   "execution_count": null,
   "metadata": {
    "scrolled": false
   },
   "outputs": [],
   "source": [
    "model = GaussianMixture(n_components=n_components, \n",
    "                        n_init=n_init,\n",
    "                        max_iter=max_iter, \n",
    "                        verbose=verbose,\n",
    "                        random_state=0).fit(x_train_processed)"
   ]
  },
  {
   "cell_type": "code",
   "execution_count": null,
   "metadata": {},
   "outputs": [],
   "source": [
    "label_predictions = model.predict(x_test_processed)"
   ]
  },
  {
   "cell_type": "code",
   "execution_count": null,
   "metadata": {},
   "outputs": [],
   "source": [
    "print(homogeneity_score(y_test, label_predictions))"
   ]
  },
  {
   "cell_type": "markdown",
   "metadata": {},
   "source": [
    "### 3.3. Observations\n",
    "\n",
    "The two cells below visualizes the repartition of items between the ten buckets created by the KMeans model above."
   ]
  },
  {
   "cell_type": "code",
   "execution_count": null,
   "metadata": {
    "scrolled": false
   },
   "outputs": [],
   "source": [
    "label_number = 10\n",
    "\n",
    "#2D matrix  for an array of indexes of the given label\n",
    "cluster_index= [[] for i in range(label_number)]\n",
    "for i, label in enumerate(label_predictions):\n",
    "    for n in range(label_number):\n",
    "        if label == n: cluster_index[n].append(i)\n",
    "        else: continue\n",
    "\n",
    "for j, _ in enumerate(labelNames):\n",
    "    plt.figure(figsize=(6,6));\n",
    "    clust = j #enter label number to visualise T-Shirt/Top\n",
    "    num = 10\n",
    "    for i in range(1,4):\n",
    "        plt.subplot(3, 3, i) #(Number of rows, Number of column per row, item number)\n",
    "        plt.imshow(x_test_origin[cluster_index[clust][i+20]], cmap = plt.cm.binary);\n",
    "\n",
    "plt.show()"
   ]
  },
  {
   "cell_type": "code",
   "execution_count": null,
   "metadata": {
    "scrolled": false
   },
   "outputs": [],
   "source": [
    "clusters={}\n",
    "for i in range(10):\n",
    "    clusters[i]=[0]*10\n",
    "\n",
    "for index, item in enumerate(label_predictions):\n",
    "    clusters[item][y_test[index]] += 1\n",
    "\n",
    "for i in range(len(clusters)):\n",
    "    fig = plt.figure(figsize=(10,3))\n",
    "    plt.bar(labelNames, clusters[i], color=\"purple\", width=0.4)\n",
    "    plt.title(f\"Amount of items of a specific label assigned to cluster {i}\")\n",
    "    plt.show()"
   ]
  },
  {
   "cell_type": "code",
   "execution_count": null,
   "metadata": {},
   "outputs": [],
   "source": [
    "pca = decomposition.PCA(n_components = 3)\n",
    "x_test_visualization = StandardScaler().fit_transform(x_test_processed)\n",
    "x_test_visualization = pca.fit_transform(x_test_visualization)"
   ]
  },
  {
   "cell_type": "code",
   "execution_count": null,
   "metadata": {
    "scrolled": false
   },
   "outputs": [],
   "source": [
    "colors = [\"blue\",\"red\",\"green\",\"pink\",\"purple\",\"cyan\",\"yellow\",\"orange\",\"black\",\"brown\"]\n",
    "\n",
    "fig = plt.figure(figsize=(12,8))\n",
    "ax = fig.add_subplot(111, projection='3d')\n",
    "for index, item in enumerate(x_test_visualization[:200]):\n",
    "    ax.scatter(item[0], item[1], item[2], marker=\"x\", color = colors[label_predictions[index]])\n",
    "\n",
    "plt.show()"
   ]
  },
  {
   "cell_type": "markdown",
   "metadata": {},
   "source": [
    "<hr> \n",
    "<span style=\"color:green\">The above visualizations highlight a few key behaviors:\n",
    "    \n",
    "> 1. KMeans is **able to distinguish bags** (clusters 1 and 5), **ankle boots** (cluster 0 and 2), **sandals** and **sneakers** (cluster 4 and 8) from the rest of the dataset\n",
    ">\n",
    "> 2. KMeans **struggles identifying trousers from dresses** (cluster 3)\n",
    ">\n",
    "> 3. KMeans **struggles identifying all top clothes from each other** (clusters 6, 7, and 9(\n",
    "\n",
    "We obtained a **homogeneity metric of c. 0.49**. As per sklearn's [documentation](https://scikit-learn.org/stable/modules/generated/sklearn.metrics.homogeneity_score.html): \"clustering result satisfies homogeneity if all of its clusters contain only data points which are members of a single class.\" A score of 1 implies a perfect labeling with a score of 0 being the minimum."
   ]
  },
  {
   "cell_type": "markdown",
   "metadata": {},
   "source": [
    "## 5. Comparing results of both KMeans and GMM\n",
    "\n",
    "### 5.1. Comparisons\n",
    "\n",
    "### 5.2. Other Explorations"
   ]
  },
  {
   "cell_type": "code",
   "execution_count": null,
   "metadata": {},
   "outputs": [],
   "source": []
  },
  {
   "cell_type": "markdown",
   "metadata": {},
   "source": [
    "## 6. Exploring the parameters of GMM, i.e. Implementing Efficient Greedy Learning\n",
    "\n",
    "Based on ``Verbeek, Jakob & Vlassis, Nikos & Krose, B.. (2003). Efficient Greedy Learning of Gaussian Mixture Models. Neural computation. 15. 469-85. 10.1162/089976603762553004``."
   ]
  },
  {
   "cell_type": "code",
   "execution_count": null,
   "metadata": {},
   "outputs": [],
   "source": []
  },
  {
   "cell_type": "markdown",
   "metadata": {},
   "source": [
    "## 7. References used for this exercise\n",
    "\n",
    "- https://www.researchgate.net/publication/10896453_Efficient_Greedy_Learning_of_Gaussian_Mixture_Models\n",
    "- https://www.kaggle.com/c/ttic-31020-hw5-fmnist-gmm/leaderboard (leaderboard for GMM classification of Fashion-MNIST)\n",
    "- https://scikit-learn.org/stable/modules/generated/sklearn.mixture.GaussianMixture.html\n",
    "- https://scikit-learn.org/stable/modules/generated/sklearn.metrics.v_measure_score.html\n",
    "- https://scikit-learn.org/stable/modules/generated/sklearn.metrics.silhouette_score.html\n",
    "- https://scikit-learn.org/stable/modules/generated/sklearn.metrics.homogeneity_score.html\n",
    "- https://scikit-learn.org/stable/modules/generated/sklearn.cluster.KMeans.html\n",
    "- https://brilliant.org/wiki/gaussian-mixture-model/\n",
    "- https://towardsdatascience.com/gaussian-mixture-models-implemented-from-scratch-1857e40ea566"
   ]
  },
  {
   "cell_type": "code",
   "execution_count": null,
   "metadata": {},
   "outputs": [],
   "source": []
  }
 ],
 "metadata": {
  "kernelspec": {
   "display_name": "Python 3",
   "language": "python",
   "name": "python3"
  },
  "language_info": {
   "codemirror_mode": {
    "name": "ipython",
    "version": 3
   },
   "file_extension": ".py",
   "mimetype": "text/x-python",
   "name": "python",
   "nbconvert_exporter": "python",
   "pygments_lexer": "ipython3",
   "version": "3.8.3"
  }
 },
 "nbformat": 4,
 "nbformat_minor": 4
}
