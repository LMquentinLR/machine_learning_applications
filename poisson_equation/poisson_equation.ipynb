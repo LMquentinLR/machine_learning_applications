{
 "cells": [
  {
   "cell_type": "code",
   "execution_count": 1,
   "metadata": {},
   "outputs": [],
   "source": [
    "import numpy as np\n",
    "import seaborn as sns"
   ]
  },
  {
   "cell_type": "markdown",
   "metadata": {},
   "source": [
    "Based on write-up here: [link](https://mattferraro.dev/posts/poissons-equation)"
   ]
  },
  {
   "cell_type": "code",
   "execution_count": 13,
   "metadata": {},
   "outputs": [],
   "source": [
    "size = 6\n",
    "\n",
    "def start_state():\n",
    "    mat = np.zeros((size, size))\n",
    "    mat[:,-1]=1\n",
    "    return mat\n",
    "\n",
    "def update(mat):\n",
    "    new_mat = np.zeros((size, size))\n",
    "    for i in range(size):\n",
    "        for j in range(size):\n",
    "            if i == 0 or i == size-1 \\\n",
    "            or j == 0 or j == size-1:\n",
    "                new_mat[i,j]=mat[i,j]\n",
    "            else:\n",
    "                new_mat[i,j]= 1/4 * (\n",
    "                    mat[i-1,j] + mat[i+1,j] + mat[i,j-1] + mat[i,j+1]\n",
    "                )\n",
    "    return new_mat\n",
    "\n",
    "def update_inplace(mat):\n",
    "    for i in range(size):\n",
    "        for j in range(size):\n",
    "            if not (i == 0 or i == size-1 \\\n",
    "            or j == 0 or j == size-1):\n",
    "                mat[i,j]= 1/4 * (\n",
    "                    mat[i-1,j] + mat[i+1,j] + mat[i,j-1] + mat[i,j+1]\n",
    "                )\n",
    "    return mat\n",
    "\n",
    "def make_pass(mat, func, rounds):\n",
    "    for i in range(rounds):\n",
    "        old_mat = mat.copy()\n",
    "        mat = func(mat)\n",
    "        if np.all(mat == old_mat):\n",
    "            print(f\"convergence reached at round {i}\")\n",
    "            break\n",
    "    print(mat)"
   ]
  },
  {
   "cell_type": "code",
   "execution_count": 14,
   "metadata": {},
   "outputs": [],
   "source": [
    "#declaring start states\n",
    "\n",
    "matrix_1 = start_state()\n",
    "matrix_2 = start_state()"
   ]
  },
  {
   "cell_type": "code",
   "execution_count": 15,
   "metadata": {},
   "outputs": [
    {
     "name": "stdout",
     "output_type": "stream",
     "text": [
      "convergence reached at round 173\n",
      "[[0.         0.         0.         0.         0.         1.        ]\n",
      " [0.         0.04545455 0.10984848 0.22348485 0.45454545 1.        ]\n",
      " [0.         0.0719697  0.17045455 0.32954545 0.59469697 1.        ]\n",
      " [0.         0.0719697  0.17045455 0.32954545 0.59469697 1.        ]\n",
      " [0.         0.04545455 0.10984848 0.22348485 0.45454545 1.        ]\n",
      " [0.         0.         0.         0.         0.         1.        ]]\n"
     ]
    }
   ],
   "source": [
    "make_pass(matrix_1, update, 1000)"
   ]
  },
  {
   "cell_type": "code",
   "execution_count": 16,
   "metadata": {},
   "outputs": [
    {
     "name": "stdout",
     "output_type": "stream",
     "text": [
      "convergence reached at round 89\n",
      "[[0.         0.         0.         0.         0.         1.        ]\n",
      " [0.         0.04545455 0.10984848 0.22348485 0.45454545 1.        ]\n",
      " [0.         0.0719697  0.17045455 0.32954545 0.59469697 1.        ]\n",
      " [0.         0.0719697  0.17045455 0.32954545 0.59469697 1.        ]\n",
      " [0.         0.04545455 0.10984848 0.22348485 0.45454545 1.        ]\n",
      " [0.         0.         0.         0.         0.         1.        ]]\n"
     ]
    }
   ],
   "source": [
    "make_pass(matrix_2, update_inplace, 1000)"
   ]
  },
  {
   "cell_type": "code",
   "execution_count": null,
   "metadata": {},
   "outputs": [],
   "source": []
  }
 ],
 "metadata": {
  "kernelspec": {
   "display_name": "Python 3",
   "language": "python",
   "name": "python3"
  },
  "language_info": {
   "codemirror_mode": {
    "name": "ipython",
    "version": 3
   },
   "file_extension": ".py",
   "mimetype": "text/x-python",
   "name": "python",
   "nbconvert_exporter": "python",
   "pygments_lexer": "ipython3",
   "version": "3.8.3"
  }
 },
 "nbformat": 4,
 "nbformat_minor": 4
}
